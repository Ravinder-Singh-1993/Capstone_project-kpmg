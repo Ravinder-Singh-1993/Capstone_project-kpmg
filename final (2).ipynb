{
 "cells": [
  {
   "cell_type": "markdown",
   "metadata": {},
   "source": [
    "### Performance of your model\n",
    "▪ Precision, Recall, Accuracy, AUC\n",
    "▪ Loss avoided by each model"
   ]
  },
  {
   "cell_type": "code",
   "execution_count": 1,
   "metadata": {},
   "outputs": [],
   "source": [
    "import pandas as pd\n",
    "import numpy as np\n",
    "import matplotlib.pyplot as plt\n",
    "import seaborn as sns\n",
    "%matplotlib inline\n",
    "import warnings\n",
    "warnings.filterwarnings('ignore')"
   ]
  },
  {
   "cell_type": "markdown",
   "metadata": {},
   "source": [
    "### Importing Dataset"
   ]
  },
  {
   "cell_type": "code",
   "execution_count": 2,
   "metadata": {},
   "outputs": [
    {
     "data": {
      "text/html": [
       "<div>\n",
       "<style scoped>\n",
       "    .dataframe tbody tr th:only-of-type {\n",
       "        vertical-align: middle;\n",
       "    }\n",
       "\n",
       "    .dataframe tbody tr th {\n",
       "        vertical-align: top;\n",
       "    }\n",
       "\n",
       "    .dataframe thead th {\n",
       "        text-align: right;\n",
       "    }\n",
       "</style>\n",
       "<table border=\"1\" class=\"dataframe\">\n",
       "  <thead>\n",
       "    <tr style=\"text-align: right;\">\n",
       "      <th></th>\n",
       "      <th>Client Category</th>\n",
       "      <th>Solution Type</th>\n",
       "      <th>Deal Date</th>\n",
       "      <th>Sector</th>\n",
       "      <th>Location</th>\n",
       "      <th>VP Name</th>\n",
       "      <th>Manager Name</th>\n",
       "      <th>Deal Cost</th>\n",
       "      <th>Deal Status Code</th>\n",
       "    </tr>\n",
       "  </thead>\n",
       "  <tbody>\n",
       "    <tr>\n",
       "      <th>0</th>\n",
       "      <td>Telecom</td>\n",
       "      <td>Solution 7</td>\n",
       "      <td>2012-03-27</td>\n",
       "      <td>Sector 24</td>\n",
       "      <td>L5</td>\n",
       "      <td>Ekta Zutshi</td>\n",
       "      <td>Gopa Trilochana</td>\n",
       "      <td>150000.00</td>\n",
       "      <td>Won</td>\n",
       "    </tr>\n",
       "    <tr>\n",
       "      <th>1</th>\n",
       "      <td>Telecom</td>\n",
       "      <td>Solution 7</td>\n",
       "      <td>2012-09-25</td>\n",
       "      <td>Sector 24</td>\n",
       "      <td>L5</td>\n",
       "      <td>Ekta Zutshi</td>\n",
       "      <td>Gopa Trilochana</td>\n",
       "      <td>744705.88</td>\n",
       "      <td>Won</td>\n",
       "    </tr>\n",
       "    <tr>\n",
       "      <th>2</th>\n",
       "      <td>Internal</td>\n",
       "      <td>Solution 59</td>\n",
       "      <td>2011-08-01</td>\n",
       "      <td>Sector 20</td>\n",
       "      <td>Others</td>\n",
       "      <td>Ekta Zutshi</td>\n",
       "      <td>Russell Dahlen</td>\n",
       "      <td>60000.00</td>\n",
       "      <td>Lost</td>\n",
       "    </tr>\n",
       "    <tr>\n",
       "      <th>3</th>\n",
       "      <td>Internal</td>\n",
       "      <td>Solution 59</td>\n",
       "      <td>2011-04-28</td>\n",
       "      <td>Sector 20</td>\n",
       "      <td>Others</td>\n",
       "      <td>Ekta Zutshi</td>\n",
       "      <td>Russell Dahlen</td>\n",
       "      <td>60000.00</td>\n",
       "      <td>Lost</td>\n",
       "    </tr>\n",
       "    <tr>\n",
       "      <th>4</th>\n",
       "      <td>Internal</td>\n",
       "      <td>Solution 32</td>\n",
       "      <td>2011-06-03</td>\n",
       "      <td>Sector 20</td>\n",
       "      <td>Others</td>\n",
       "      <td>Ekta Zutshi</td>\n",
       "      <td>Russell Dahlen</td>\n",
       "      <td>80882.35</td>\n",
       "      <td>Lost</td>\n",
       "    </tr>\n",
       "    <tr>\n",
       "      <th>...</th>\n",
       "      <td>...</td>\n",
       "      <td>...</td>\n",
       "      <td>...</td>\n",
       "      <td>...</td>\n",
       "      <td>...</td>\n",
       "      <td>...</td>\n",
       "      <td>...</td>\n",
       "      <td>...</td>\n",
       "      <td>...</td>\n",
       "    </tr>\n",
       "    <tr>\n",
       "      <th>10056</th>\n",
       "      <td>Power ind</td>\n",
       "      <td>Solution 9</td>\n",
       "      <td>2019-03-18</td>\n",
       "      <td>Sector 9</td>\n",
       "      <td>L5</td>\n",
       "      <td>Rudraksh Sharma</td>\n",
       "      <td>Rudraksh Sharma</td>\n",
       "      <td>588235.29</td>\n",
       "      <td>Lost</td>\n",
       "    </tr>\n",
       "    <tr>\n",
       "      <th>10057</th>\n",
       "      <td>Internal</td>\n",
       "      <td>Solution 6</td>\n",
       "      <td>2019-03-04</td>\n",
       "      <td>Sector 20</td>\n",
       "      <td>Others</td>\n",
       "      <td>Rudraksh Sharma</td>\n",
       "      <td>Sharavan Singh</td>\n",
       "      <td>777058.82</td>\n",
       "      <td>Won</td>\n",
       "    </tr>\n",
       "    <tr>\n",
       "      <th>10058</th>\n",
       "      <td>Power ind</td>\n",
       "      <td>Solution 9</td>\n",
       "      <td>2019-02-28</td>\n",
       "      <td>Sector 9</td>\n",
       "      <td>L5</td>\n",
       "      <td>Rudraksh Sharma</td>\n",
       "      <td>Rudraksh Sharma</td>\n",
       "      <td>588235.29</td>\n",
       "      <td>Lost</td>\n",
       "    </tr>\n",
       "    <tr>\n",
       "      <th>10059</th>\n",
       "      <td>Power ind</td>\n",
       "      <td>Solution 62</td>\n",
       "      <td>2019-01-27</td>\n",
       "      <td>Sector 9</td>\n",
       "      <td>L5</td>\n",
       "      <td>Man Suddeth</td>\n",
       "      <td>Cleotilde Biron</td>\n",
       "      <td>3042058.82</td>\n",
       "      <td>Won</td>\n",
       "    </tr>\n",
       "    <tr>\n",
       "      <th>10060</th>\n",
       "      <td>Others</td>\n",
       "      <td>Solution 9</td>\n",
       "      <td>2019-05-30</td>\n",
       "      <td>Sector 12</td>\n",
       "      <td>L10</td>\n",
       "      <td>Son Mcconnaughy</td>\n",
       "      <td>Tarun Garg</td>\n",
       "      <td>147058.82</td>\n",
       "      <td>Lost</td>\n",
       "    </tr>\n",
       "  </tbody>\n",
       "</table>\n",
       "<p>10061 rows × 9 columns</p>\n",
       "</div>"
      ],
      "text/plain": [
       "      Client Category Solution Type  Deal Date     Sector Location  \\\n",
       "0             Telecom    Solution 7 2012-03-27  Sector 24       L5   \n",
       "1             Telecom    Solution 7 2012-09-25  Sector 24       L5   \n",
       "2            Internal   Solution 59 2011-08-01  Sector 20   Others   \n",
       "3            Internal   Solution 59 2011-04-28  Sector 20   Others   \n",
       "4            Internal   Solution 32 2011-06-03  Sector 20   Others   \n",
       "...               ...           ...        ...        ...      ...   \n",
       "10056       Power ind    Solution 9 2019-03-18   Sector 9       L5   \n",
       "10057        Internal    Solution 6 2019-03-04  Sector 20   Others   \n",
       "10058       Power ind    Solution 9 2019-02-28   Sector 9       L5   \n",
       "10059       Power ind   Solution 62 2019-01-27   Sector 9       L5   \n",
       "10060          Others    Solution 9 2019-05-30  Sector 12      L10   \n",
       "\n",
       "               VP Name     Manager Name   Deal Cost Deal Status Code  \n",
       "0          Ekta Zutshi  Gopa Trilochana   150000.00              Won  \n",
       "1          Ekta Zutshi  Gopa Trilochana   744705.88              Won  \n",
       "2          Ekta Zutshi   Russell Dahlen    60000.00             Lost  \n",
       "3          Ekta Zutshi   Russell Dahlen    60000.00             Lost  \n",
       "4          Ekta Zutshi   Russell Dahlen    80882.35             Lost  \n",
       "...                ...              ...         ...              ...  \n",
       "10056  Rudraksh Sharma  Rudraksh Sharma   588235.29             Lost  \n",
       "10057  Rudraksh Sharma   Sharavan Singh   777058.82              Won  \n",
       "10058  Rudraksh Sharma  Rudraksh Sharma   588235.29             Lost  \n",
       "10059      Man Suddeth  Cleotilde Biron  3042058.82              Won  \n",
       "10060  Son Mcconnaughy       Tarun Garg   147058.82             Lost  \n",
       "\n",
       "[10061 rows x 9 columns]"
      ]
     },
     "execution_count": 2,
     "metadata": {},
     "output_type": "execute_result"
    }
   ],
   "source": [
    "Data= pd.read_excel(\"Win_prediction_data.xlsx\")\n",
    "Data"
   ]
  },
  {
   "cell_type": "markdown",
   "metadata": {},
   "source": [
    "#### Shape of the data"
   ]
  },
  {
   "cell_type": "code",
   "execution_count": 3,
   "metadata": {},
   "outputs": [
    {
     "name": "stdout",
     "output_type": "stream",
     "text": [
      "The shape of the dataset is :  (10061, 9)\n"
     ]
    }
   ],
   "source": [
    "print(\"The shape of the dataset is : \", Data.shape)"
   ]
  },
  {
   "cell_type": "code",
   "execution_count": 4,
   "metadata": {},
   "outputs": [
    {
     "name": "stdout",
     "output_type": "stream",
     "text": [
      "<class 'pandas.core.frame.DataFrame'>\n",
      "RangeIndex: 10061 entries, 0 to 10060\n",
      "Data columns (total 9 columns):\n",
      " #   Column            Non-Null Count  Dtype         \n",
      "---  ------            --------------  -----         \n",
      " 0   Client Category   9982 non-null   object        \n",
      " 1   Solution Type     10061 non-null  object        \n",
      " 2   Deal Date         10061 non-null  datetime64[ns]\n",
      " 3   Sector            10061 non-null  object        \n",
      " 4   Location          10061 non-null  object        \n",
      " 5   VP Name           10061 non-null  object        \n",
      " 6   Manager Name      10061 non-null  object        \n",
      " 7   Deal Cost         10061 non-null  float64       \n",
      " 8   Deal Status Code  10061 non-null  object        \n",
      "dtypes: datetime64[ns](1), float64(1), object(7)\n",
      "memory usage: 707.5+ KB\n"
     ]
    }
   ],
   "source": [
    "Data.info() "
   ]
  },
  {
   "cell_type": "markdown",
   "metadata": {},
   "source": [
    "#### Converting 1st letter of every string in Upper case. "
   ]
  },
  {
   "cell_type": "code",
   "execution_count": 5,
   "metadata": {},
   "outputs": [
    {
     "data": {
      "text/html": [
       "<div>\n",
       "<style scoped>\n",
       "    .dataframe tbody tr th:only-of-type {\n",
       "        vertical-align: middle;\n",
       "    }\n",
       "\n",
       "    .dataframe tbody tr th {\n",
       "        vertical-align: top;\n",
       "    }\n",
       "\n",
       "    .dataframe thead th {\n",
       "        text-align: right;\n",
       "    }\n",
       "</style>\n",
       "<table border=\"1\" class=\"dataframe\">\n",
       "  <thead>\n",
       "    <tr style=\"text-align: right;\">\n",
       "      <th></th>\n",
       "      <th>Client Category</th>\n",
       "      <th>Solution Type</th>\n",
       "      <th>Deal Date</th>\n",
       "      <th>Sector</th>\n",
       "      <th>Location</th>\n",
       "      <th>VP Name</th>\n",
       "      <th>Manager Name</th>\n",
       "      <th>Deal Cost</th>\n",
       "      <th>Deal Status Code</th>\n",
       "    </tr>\n",
       "  </thead>\n",
       "  <tbody>\n",
       "    <tr>\n",
       "      <th>0</th>\n",
       "      <td>Telecom</td>\n",
       "      <td>Solution 7</td>\n",
       "      <td>2012-03-27</td>\n",
       "      <td>Sector 24</td>\n",
       "      <td>L5</td>\n",
       "      <td>Ekta zutshi</td>\n",
       "      <td>Gopa trilochana</td>\n",
       "      <td>150000.00</td>\n",
       "      <td>Won</td>\n",
       "    </tr>\n",
       "    <tr>\n",
       "      <th>1</th>\n",
       "      <td>Telecom</td>\n",
       "      <td>Solution 7</td>\n",
       "      <td>2012-09-25</td>\n",
       "      <td>Sector 24</td>\n",
       "      <td>L5</td>\n",
       "      <td>Ekta zutshi</td>\n",
       "      <td>Gopa trilochana</td>\n",
       "      <td>744705.88</td>\n",
       "      <td>Won</td>\n",
       "    </tr>\n",
       "    <tr>\n",
       "      <th>2</th>\n",
       "      <td>Internal</td>\n",
       "      <td>Solution 59</td>\n",
       "      <td>2011-08-01</td>\n",
       "      <td>Sector 20</td>\n",
       "      <td>Others</td>\n",
       "      <td>Ekta zutshi</td>\n",
       "      <td>Russell dahlen</td>\n",
       "      <td>60000.00</td>\n",
       "      <td>Lost</td>\n",
       "    </tr>\n",
       "    <tr>\n",
       "      <th>3</th>\n",
       "      <td>Internal</td>\n",
       "      <td>Solution 59</td>\n",
       "      <td>2011-04-28</td>\n",
       "      <td>Sector 20</td>\n",
       "      <td>Others</td>\n",
       "      <td>Ekta zutshi</td>\n",
       "      <td>Russell dahlen</td>\n",
       "      <td>60000.00</td>\n",
       "      <td>Lost</td>\n",
       "    </tr>\n",
       "    <tr>\n",
       "      <th>4</th>\n",
       "      <td>Internal</td>\n",
       "      <td>Solution 32</td>\n",
       "      <td>2011-06-03</td>\n",
       "      <td>Sector 20</td>\n",
       "      <td>Others</td>\n",
       "      <td>Ekta zutshi</td>\n",
       "      <td>Russell dahlen</td>\n",
       "      <td>80882.35</td>\n",
       "      <td>Lost</td>\n",
       "    </tr>\n",
       "  </tbody>\n",
       "</table>\n",
       "</div>"
      ],
      "text/plain": [
       "  Client Category Solution Type  Deal Date     Sector Location      VP Name  \\\n",
       "0         Telecom    Solution 7 2012-03-27  Sector 24       L5  Ekta zutshi   \n",
       "1         Telecom    Solution 7 2012-09-25  Sector 24       L5  Ekta zutshi   \n",
       "2        Internal   Solution 59 2011-08-01  Sector 20   Others  Ekta zutshi   \n",
       "3        Internal   Solution 59 2011-04-28  Sector 20   Others  Ekta zutshi   \n",
       "4        Internal   Solution 32 2011-06-03  Sector 20   Others  Ekta zutshi   \n",
       "\n",
       "      Manager Name  Deal Cost Deal Status Code  \n",
       "0  Gopa trilochana  150000.00              Won  \n",
       "1  Gopa trilochana  744705.88              Won  \n",
       "2   Russell dahlen   60000.00             Lost  \n",
       "3   Russell dahlen   60000.00             Lost  \n",
       "4   Russell dahlen   80882.35             Lost  "
      ]
     },
     "execution_count": 5,
     "metadata": {},
     "output_type": "execute_result"
    }
   ],
   "source": [
    "for i in Data.columns :\n",
    "    if Data[i].dtype == object :\n",
    "        Data[i] = Data[i].str.capitalize()\n",
    "Data.head(5)    "
   ]
  },
  {
   "cell_type": "markdown",
   "metadata": {},
   "source": [
    "#### Checking the unique value of each feature."
   ]
  },
  {
   "cell_type": "code",
   "execution_count": 6,
   "metadata": {},
   "outputs": [
    {
     "data": {
      "text/html": [
       "<div>\n",
       "<style scoped>\n",
       "    .dataframe tbody tr th:only-of-type {\n",
       "        vertical-align: middle;\n",
       "    }\n",
       "\n",
       "    .dataframe tbody tr th {\n",
       "        vertical-align: top;\n",
       "    }\n",
       "\n",
       "    .dataframe thead th {\n",
       "        text-align: right;\n",
       "    }\n",
       "</style>\n",
       "<table border=\"1\" class=\"dataframe\">\n",
       "  <thead>\n",
       "    <tr style=\"text-align: right;\">\n",
       "      <th></th>\n",
       "      <th>unique count</th>\n",
       "    </tr>\n",
       "  </thead>\n",
       "  <tbody>\n",
       "    <tr>\n",
       "      <th>Client Category</th>\n",
       "      <td>41</td>\n",
       "    </tr>\n",
       "    <tr>\n",
       "      <th>Solution Type</th>\n",
       "      <td>67</td>\n",
       "    </tr>\n",
       "    <tr>\n",
       "      <th>Deal Date</th>\n",
       "      <td>2555</td>\n",
       "    </tr>\n",
       "    <tr>\n",
       "      <th>Sector</th>\n",
       "      <td>25</td>\n",
       "    </tr>\n",
       "    <tr>\n",
       "      <th>Location</th>\n",
       "      <td>13</td>\n",
       "    </tr>\n",
       "    <tr>\n",
       "      <th>VP Name</th>\n",
       "      <td>43</td>\n",
       "    </tr>\n",
       "    <tr>\n",
       "      <th>Manager Name</th>\n",
       "      <td>278</td>\n",
       "    </tr>\n",
       "    <tr>\n",
       "      <th>Deal Cost</th>\n",
       "      <td>1469</td>\n",
       "    </tr>\n",
       "    <tr>\n",
       "      <th>Deal Status Code</th>\n",
       "      <td>2</td>\n",
       "    </tr>\n",
       "  </tbody>\n",
       "</table>\n",
       "</div>"
      ],
      "text/plain": [
       "                  unique count\n",
       "Client Category             41\n",
       "Solution Type               67\n",
       "Deal Date                 2555\n",
       "Sector                      25\n",
       "Location                    13\n",
       "VP Name                     43\n",
       "Manager Name               278\n",
       "Deal Cost                 1469\n",
       "Deal Status Code             2"
      ]
     },
     "execution_count": 6,
     "metadata": {},
     "output_type": "execute_result"
    }
   ],
   "source": [
    "dict = {}\n",
    "for i in list(Data.columns):\n",
    "    dict[i] = Data[i].value_counts().shape[0]\n",
    "\n",
    "pd.DataFrame(dict,index=[\"unique count\"]).transpose()"
   ]
  },
  {
   "cell_type": "markdown",
   "metadata": {},
   "source": [
    "#### Checking of Null values in each feature"
   ]
  },
  {
   "cell_type": "code",
   "execution_count": 7,
   "metadata": {},
   "outputs": [
    {
     "data": {
      "text/plain": [
       "Client Category     79\n",
       "Solution Type        0\n",
       "Deal Date            0\n",
       "Sector               0\n",
       "Location             0\n",
       "VP Name              0\n",
       "Manager Name         0\n",
       "Deal Cost            0\n",
       "Deal Status Code     0\n",
       "dtype: int64"
      ]
     },
     "execution_count": 7,
     "metadata": {},
     "output_type": "execute_result"
    }
   ],
   "source": [
    "Data.isna().sum()"
   ]
  },
  {
   "cell_type": "markdown",
   "metadata": {},
   "source": [
    "#### Finding and removing duplicate rows"
   ]
  },
  {
   "cell_type": "code",
   "execution_count": 8,
   "metadata": {},
   "outputs": [
    {
     "name": "stdout",
     "output_type": "stream",
     "text": [
      "<class 'pandas.core.frame.DataFrame'>\n",
      "Int64Index: 10047 entries, 0 to 10060\n",
      "Data columns (total 9 columns):\n",
      " #   Column            Non-Null Count  Dtype         \n",
      "---  ------            --------------  -----         \n",
      " 0   Client Category   9968 non-null   object        \n",
      " 1   Solution Type     10047 non-null  object        \n",
      " 2   Deal Date         10047 non-null  datetime64[ns]\n",
      " 3   Sector            10047 non-null  object        \n",
      " 4   Location          10047 non-null  object        \n",
      " 5   VP Name           10047 non-null  object        \n",
      " 6   Manager Name      10047 non-null  object        \n",
      " 7   Deal Cost         10047 non-null  float64       \n",
      " 8   Deal Status Code  10047 non-null  object        \n",
      "dtypes: datetime64[ns](1), float64(1), object(7)\n",
      "memory usage: 784.9+ KB\n"
     ]
    }
   ],
   "source": [
    "Data.drop_duplicates(inplace=True)\n",
    "Data.info()\n",
    "#original rows(10061)-after removing duplicate(10047)\n",
    "#14 duplicated values have been removed"
   ]
  },
  {
   "cell_type": "code",
   "execution_count": 9,
   "metadata": {},
   "outputs": [
    {
     "data": {
      "text/plain": [
       "Client Category     79\n",
       "Solution Type        0\n",
       "Deal Date            0\n",
       "Sector               0\n",
       "Location             0\n",
       "VP Name              0\n",
       "Manager Name         0\n",
       "Deal Cost            0\n",
       "Deal Status Code     0\n",
       "dtype: int64"
      ]
     },
     "execution_count": 9,
     "metadata": {},
     "output_type": "execute_result"
    }
   ],
   "source": [
    "Data.isna().sum()  #after removing duplicate rows."
   ]
  },
  {
   "cell_type": "markdown",
   "metadata": {},
   "source": [
    "## Univariate analysis"
   ]
  },
  {
   "cell_type": "code",
   "execution_count": 10,
   "metadata": {},
   "outputs": [
    {
     "data": {
      "text/plain": [
       "Index(['Client Category', 'Solution Type', 'Deal Date', 'Sector', 'Location',\n",
       "       'VP Name', 'Manager Name', 'Deal Cost', 'Deal Status Code'],\n",
       "      dtype='object')"
      ]
     },
     "metadata": {},
     "output_type": "display_data"
    },
    {
     "name": "stdout",
     "output_type": "stream",
     "text": [
      "Client Category        Client Category      \n",
      "Airpline               Airpline                   27\n",
      "Automobiles            Automobiles               178\n",
      "Consulting             Consulting                352\n",
      "Consumer good          Consumer good             185\n",
      "Domestic bank          Domestic bank             134\n",
      "Domestic private bank  Domestic private bank     261\n",
      "Domestic public bank   Domestic public bank      418\n",
      "E-commerce             E-commerce                 32\n",
      "Electronics            Electronics                81\n",
      "Energy                 Energy                     57\n",
      "Energy                 Energy                     37\n",
      "Finance                Finance                   339\n",
      "Govt                   Govt                      120\n",
      "Govt bank special      Govt bank special          41\n",
      "Healthcare             Healthcare                 99\n",
      "Holding                Holding                    25\n",
      "Hospitality            Hospitality               119\n",
      "Industries             Industries                 66\n",
      "Infrastructure         Infrastructure            151\n",
      "Insurance              Insurance                 247\n",
      "Internal               Internal                 1451\n",
      "International bank     International bank        375\n",
      "International org      International org          25\n",
      "Knowledge              Knowledge                  50\n",
      "Logistics              Logistics                  20\n",
      "Management             Management                 43\n",
      "Manufacturing          Manufacturing             117\n",
      "Media_journal          Media_journal              71\n",
      "Medical                Medical                     5\n",
      "Others                 Others                   1762\n",
      "Payment                Payment                    40\n",
      "Pharma                 Pharma                    110\n",
      "Power ind              Power ind                 264\n",
      "Real estate            Real estate                19\n",
      "Research development   Research development       63\n",
      "Retail_market          Retail_market             126\n",
      "Services_based         Services_based           1200\n",
      "Share_market           Share_market               14\n",
      "Tax_audit              Tax_audit                   7\n",
      "Tech                   Tech                      911\n",
      "Telecom                Telecom                   326\n",
      "Name: Client Category, dtype: int64\n"
     ]
    },
    {
     "data": {
      "text/plain": [
       "array(['Telecom', 'Internal', 'Govt', 'Consumer good',\n",
       "       'International bank', 'Domestic public bank', 'Finance',\n",
       "       'Manufacturing', 'Services_based', 'Research development',\n",
       "       'Others', 'Hospitality', 'Consulting', 'Retail_market', 'Energy ',\n",
       "       'Domestic private bank', 'Industries', 'Tech', 'Healthcare',\n",
       "       'Electronics', 'Domestic bank', 'Automobiles', 'Medical ',\n",
       "       'Infrastructure', 'Pharma', 'Power ind', 'Holding', 'Logistics',\n",
       "       'Insurance', 'Payment', 'Energy', 'Govt bank special',\n",
       "       'Management', 'Media_journal', 'International org', 'Real estate',\n",
       "       nan, 'Tax_audit', 'Share_market', 'Knowledge', 'Airpline',\n",
       "       'E-commerce'], dtype=object)"
      ]
     },
     "execution_count": 10,
     "metadata": {},
     "output_type": "execute_result"
    }
   ],
   "source": [
    "display(Data.columns)\n",
    "print(Data.groupby(\"Client Category\")['Client Category'].value_counts())\n",
    "Data[\"Client Category\"].unique()\n",
    "\n",
    "# There is a duplicacy in Client Category. It seems typing error in Energy category"
   ]
  },
  {
   "cell_type": "code",
   "execution_count": 11,
   "metadata": {},
   "outputs": [],
   "source": [
    "# Altering the error\n",
    "Data[\"Client Category\"]=np.where((Data[\"Client Category\"]=='Energy '),'Energy',Data[\"Client Category\"])"
   ]
  },
  {
   "cell_type": "code",
   "execution_count": 12,
   "metadata": {},
   "outputs": [
    {
     "data": {
      "text/plain": [
       "array(['L10'], dtype=object)"
      ]
     },
     "execution_count": 12,
     "metadata": {},
     "output_type": "execute_result"
    }
   ],
   "source": [
    "Data[Data['Client Category'].isnull()]['Location'].unique()"
   ]
  },
  {
   "cell_type": "code",
   "execution_count": 13,
   "metadata": {},
   "outputs": [
    {
     "data": {
      "text/plain": [
       "38"
      ]
     },
     "execution_count": 13,
     "metadata": {},
     "output_type": "execute_result"
    }
   ],
   "source": [
    "Data[Data['Location']=='L10']['Client Category'].nunique()"
   ]
  },
  {
   "cell_type": "code",
   "execution_count": 14,
   "metadata": {},
   "outputs": [],
   "source": [
    "def client(cols):\n",
    "    a= cols[0]\n",
    "    b= cols[1]\n",
    "    c= ['Sector 12', 'Sector 19', 'Sector 23', 'Sector 24', 'Sector 3',\n",
    "       'Sector 5', 'Sector 6', 'Sector 15', 'Sector 20']\n",
    "    d= ['Solution 7', 'Solution 10', 'Solution 37', 'Solution 31',\n",
    "       'Solution 67', 'Solution 32', 'Solution 6', 'Solution 39',\n",
    "       'Solution 28', 'Solution 12', 'Solution 4', 'Solution 29',\n",
    "       'Solution 8', 'Solution 42', 'Solution 38', 'Solution 9',\n",
    "       'Solution 14']\n",
    "    if pd.isnull(a):\n",
    "        if b == \"L10\":\n",
    "            for i in c:\n",
    "                for j in d:\n",
    "                    return Data['Client Category'][(Data[\"Sector\"]==i)&(Data['Solution Type']==j)].mode()[0] \n",
    "    else:\n",
    "        return a"
   ]
  },
  {
   "cell_type": "code",
   "execution_count": 15,
   "metadata": {},
   "outputs": [],
   "source": [
    "Data['Client Category'] = Data[['Client Category','Location']].apply(client,axis=1)"
   ]
  },
  {
   "cell_type": "code",
   "execution_count": 16,
   "metadata": {},
   "outputs": [
    {
     "data": {
      "text/plain": [
       "0"
      ]
     },
     "execution_count": 16,
     "metadata": {},
     "output_type": "execute_result"
    }
   ],
   "source": [
    "Data['Client Category'].isna().sum()"
   ]
  },
  {
   "cell_type": "code",
   "execution_count": 17,
   "metadata": {},
   "outputs": [],
   "source": [
    " Data['Wrangled Category']= Data['Client Category']"
   ]
  },
  {
   "cell_type": "code",
   "execution_count": 18,
   "metadata": {},
   "outputs": [],
   "source": [
    " Data['Wrangled Category']= Data['Wrangled Category'].map({'Telecom':\"Service\", 'Govt':\"Miscellineous\", \n",
    "                            'Consumer good':\"Market\",'Internal':\"Organitional\",'International bank':\"Banking\", \n",
    "                            'Domestic public bank':\"Banking\", 'Finance':\"Service\",'Manufacturing':\"Organitional\",\n",
    "                            'Services_based':\"Service\",'Research development':\"Organitional\",'Others':\"Miscellineous\", \n",
    "                            'Hospitality':\"Service\", 'Consulting':\"Service\", 'Retail_market':\"Market\", 'Energy':\"Source\",\n",
    "    'Domestic private bank':\"Banking\", 'Industries':\"Growth\", 'Tech':\"Technology\", 'Healthcare':\"Health\",\n",
    "    'Electronics':\"Technology\", 'Domestic bank':\"Banking\",'Automobiles':\"Commute\", 'Medical ':\"Health\", \n",
    "    'Infrastructure':\"Growth\", 'Pharma':\"Health\", 'Power ind':\"Source\", 'Holding':\"Organitional\", \n",
    "    'Logistics':\"Organitional\",'Insurance':\"Service\", 'Payment':\"Service\", 'Govt bank special':\"Banking\",\n",
    "    'Management':\"Service\", 'Media_journal':\"Education\", 'International org':\"Miscellineous\",'Real estate':\"Growth\",\n",
    "    'Tax_audit':\"Service\",'Share_market':\"Market\",'Knowledge':\"Education\",'Airpline':\"Commute\",'E-commerce':\"Market\"})"
   ]
  },
  {
   "cell_type": "code",
   "execution_count": 19,
   "metadata": {},
   "outputs": [
    {
     "data": {
      "text/html": [
       "<div>\n",
       "<style scoped>\n",
       "    .dataframe tbody tr th:only-of-type {\n",
       "        vertical-align: middle;\n",
       "    }\n",
       "\n",
       "    .dataframe tbody tr th {\n",
       "        vertical-align: top;\n",
       "    }\n",
       "\n",
       "    .dataframe thead th {\n",
       "        text-align: right;\n",
       "    }\n",
       "</style>\n",
       "<table border=\"1\" class=\"dataframe\">\n",
       "  <thead>\n",
       "    <tr style=\"text-align: right;\">\n",
       "      <th></th>\n",
       "      <th>Client Category</th>\n",
       "      <th>Solution Type</th>\n",
       "      <th>Deal Date</th>\n",
       "      <th>Sector</th>\n",
       "      <th>Location</th>\n",
       "      <th>VP Name</th>\n",
       "      <th>Manager Name</th>\n",
       "      <th>Deal Cost</th>\n",
       "      <th>Deal Status Code</th>\n",
       "      <th>Wrangled Category</th>\n",
       "    </tr>\n",
       "  </thead>\n",
       "  <tbody>\n",
       "    <tr>\n",
       "      <th>79</th>\n",
       "      <td>Govt</td>\n",
       "      <td>Solution 37</td>\n",
       "      <td>2011-11-20</td>\n",
       "      <td>Sector 12</td>\n",
       "      <td>L5</td>\n",
       "      <td>Ekta zutshi</td>\n",
       "      <td>Shafibul</td>\n",
       "      <td>0.0</td>\n",
       "      <td>Lost</td>\n",
       "      <td>Miscellineous</td>\n",
       "    </tr>\n",
       "    <tr>\n",
       "      <th>95</th>\n",
       "      <td>Others</td>\n",
       "      <td>Solution 31</td>\n",
       "      <td>2011-11-07</td>\n",
       "      <td>Sector 16</td>\n",
       "      <td>L5</td>\n",
       "      <td>Rosanna maynez</td>\n",
       "      <td>Ankita aggarwal</td>\n",
       "      <td>0.0</td>\n",
       "      <td>Lost</td>\n",
       "      <td>Miscellineous</td>\n",
       "    </tr>\n",
       "    <tr>\n",
       "      <th>139</th>\n",
       "      <td>Govt</td>\n",
       "      <td>Solution 37</td>\n",
       "      <td>2012-02-06</td>\n",
       "      <td>Sector 12</td>\n",
       "      <td>L5</td>\n",
       "      <td>Ekta zutshi</td>\n",
       "      <td>Shafibul</td>\n",
       "      <td>0.0</td>\n",
       "      <td>Lost</td>\n",
       "      <td>Miscellineous</td>\n",
       "    </tr>\n",
       "    <tr>\n",
       "      <th>150</th>\n",
       "      <td>Others</td>\n",
       "      <td>Solution 31</td>\n",
       "      <td>2012-03-23</td>\n",
       "      <td>Sector 16</td>\n",
       "      <td>L5</td>\n",
       "      <td>Rosanna maynez</td>\n",
       "      <td>Ankita aggarwal</td>\n",
       "      <td>0.0</td>\n",
       "      <td>Lost</td>\n",
       "      <td>Miscellineous</td>\n",
       "    </tr>\n",
       "    <tr>\n",
       "      <th>210</th>\n",
       "      <td>Domestic public bank</td>\n",
       "      <td>Solution 59</td>\n",
       "      <td>2012-06-12</td>\n",
       "      <td>Sector 2</td>\n",
       "      <td>L10</td>\n",
       "      <td>Mervin harwood</td>\n",
       "      <td>Lino batterton</td>\n",
       "      <td>0.0</td>\n",
       "      <td>Lost</td>\n",
       "      <td>Banking</td>\n",
       "    </tr>\n",
       "    <tr>\n",
       "      <th>...</th>\n",
       "      <td>...</td>\n",
       "      <td>...</td>\n",
       "      <td>...</td>\n",
       "      <td>...</td>\n",
       "      <td>...</td>\n",
       "      <td>...</td>\n",
       "      <td>...</td>\n",
       "      <td>...</td>\n",
       "      <td>...</td>\n",
       "      <td>...</td>\n",
       "    </tr>\n",
       "    <tr>\n",
       "      <th>7886</th>\n",
       "      <td>Retail_market</td>\n",
       "      <td>Solution 9</td>\n",
       "      <td>2014-11-24</td>\n",
       "      <td>Sector 23</td>\n",
       "      <td>L10</td>\n",
       "      <td>Mangesh k. singh</td>\n",
       "      <td>Fredricka bald</td>\n",
       "      <td>0.0</td>\n",
       "      <td>Lost</td>\n",
       "      <td>Market</td>\n",
       "    </tr>\n",
       "    <tr>\n",
       "      <th>7903</th>\n",
       "      <td>Tech</td>\n",
       "      <td>Solution 9</td>\n",
       "      <td>2015-05-31</td>\n",
       "      <td>Sector 2</td>\n",
       "      <td>L10</td>\n",
       "      <td>Rosanna maynez</td>\n",
       "      <td>Fredricka bald</td>\n",
       "      <td>0.0</td>\n",
       "      <td>Lost</td>\n",
       "      <td>Technology</td>\n",
       "    </tr>\n",
       "    <tr>\n",
       "      <th>7907</th>\n",
       "      <td>Tech</td>\n",
       "      <td>Solution 9</td>\n",
       "      <td>2014-12-21</td>\n",
       "      <td>Sector 2</td>\n",
       "      <td>L10</td>\n",
       "      <td>Rosanna maynez</td>\n",
       "      <td>Fredricka bald</td>\n",
       "      <td>0.0</td>\n",
       "      <td>Lost</td>\n",
       "      <td>Technology</td>\n",
       "    </tr>\n",
       "    <tr>\n",
       "      <th>7921</th>\n",
       "      <td>Retail_market</td>\n",
       "      <td>Solution 9</td>\n",
       "      <td>2014-12-21</td>\n",
       "      <td>Sector 23</td>\n",
       "      <td>L10</td>\n",
       "      <td>Mangesh k. singh</td>\n",
       "      <td>Fredricka bald</td>\n",
       "      <td>0.0</td>\n",
       "      <td>Lost</td>\n",
       "      <td>Market</td>\n",
       "    </tr>\n",
       "    <tr>\n",
       "      <th>10005</th>\n",
       "      <td>Domestic private bank</td>\n",
       "      <td>Solution 49</td>\n",
       "      <td>2018-11-29</td>\n",
       "      <td>Sector 2</td>\n",
       "      <td>L10</td>\n",
       "      <td>Mervin harwood</td>\n",
       "      <td>Siddhant gaur</td>\n",
       "      <td>0.0</td>\n",
       "      <td>Won</td>\n",
       "      <td>Banking</td>\n",
       "    </tr>\n",
       "  </tbody>\n",
       "</table>\n",
       "<p>245 rows × 10 columns</p>\n",
       "</div>"
      ],
      "text/plain": [
       "             Client Category Solution Type  Deal Date     Sector Location  \\\n",
       "79                      Govt   Solution 37 2011-11-20  Sector 12       L5   \n",
       "95                    Others   Solution 31 2011-11-07  Sector 16       L5   \n",
       "139                     Govt   Solution 37 2012-02-06  Sector 12       L5   \n",
       "150                   Others   Solution 31 2012-03-23  Sector 16       L5   \n",
       "210     Domestic public bank   Solution 59 2012-06-12   Sector 2      L10   \n",
       "...                      ...           ...        ...        ...      ...   \n",
       "7886           Retail_market    Solution 9 2014-11-24  Sector 23      L10   \n",
       "7903                    Tech    Solution 9 2015-05-31   Sector 2      L10   \n",
       "7907                    Tech    Solution 9 2014-12-21   Sector 2      L10   \n",
       "7921           Retail_market    Solution 9 2014-12-21  Sector 23      L10   \n",
       "10005  Domestic private bank   Solution 49 2018-11-29   Sector 2      L10   \n",
       "\n",
       "                VP Name     Manager Name  Deal Cost Deal Status Code  \\\n",
       "79          Ekta zutshi         Shafibul        0.0             Lost   \n",
       "95       Rosanna maynez  Ankita aggarwal        0.0             Lost   \n",
       "139         Ekta zutshi         Shafibul        0.0             Lost   \n",
       "150      Rosanna maynez  Ankita aggarwal        0.0             Lost   \n",
       "210      Mervin harwood   Lino batterton        0.0             Lost   \n",
       "...                 ...              ...        ...              ...   \n",
       "7886   Mangesh k. singh   Fredricka bald        0.0             Lost   \n",
       "7903     Rosanna maynez   Fredricka bald        0.0             Lost   \n",
       "7907     Rosanna maynez   Fredricka bald        0.0             Lost   \n",
       "7921   Mangesh k. singh   Fredricka bald        0.0             Lost   \n",
       "10005    Mervin harwood    Siddhant gaur        0.0              Won   \n",
       "\n",
       "      Wrangled Category  \n",
       "79        Miscellineous  \n",
       "95        Miscellineous  \n",
       "139       Miscellineous  \n",
       "150       Miscellineous  \n",
       "210             Banking  \n",
       "...                 ...  \n",
       "7886             Market  \n",
       "7903         Technology  \n",
       "7907         Technology  \n",
       "7921             Market  \n",
       "10005           Banking  \n",
       "\n",
       "[245 rows x 10 columns]"
      ]
     },
     "execution_count": 19,
     "metadata": {},
     "output_type": "execute_result"
    }
   ],
   "source": [
    "Data[Data['Deal Cost']==0]"
   ]
  },
  {
   "cell_type": "code",
   "execution_count": 20,
   "metadata": {},
   "outputs": [],
   "source": [
    "Data['Deal Status Code']=Data['Deal Status Code'].map({\"Won\":int(1),\"Lost\":int(0)})"
   ]
  },
  {
   "cell_type": "code",
   "execution_count": 21,
   "metadata": {},
   "outputs": [],
   "source": [
    "def Deal(x,y,u,v):\n",
    "    a,b,d,e=[x],[y],[u],[v]\n",
    "    for m in a:\n",
    "        if (m<=1):\n",
    "            for i in b:\n",
    "                for k in d:\n",
    "                    for l in e:\n",
    "                            return np.mean(Data['Deal Cost'][(Data[\"Wrangled Category\"]==str(i))\n",
    "                                                             &(Data['VP Name']==str(k))&(Data[\"Deal Status Code\"]==int(l))]) \n",
    "        else:\n",
    "            return x"
   ]
  },
  {
   "cell_type": "code",
   "execution_count": 22,
   "metadata": {},
   "outputs": [],
   "source": [
    "Data['Deal Cost']=Data[['Deal Cost','Wrangled Category','VP Name','Deal Status Code']].apply(lambda x : Deal(*x), axis=1)"
   ]
  },
  {
   "cell_type": "code",
   "execution_count": 23,
   "metadata": {},
   "outputs": [
    {
     "data": {
      "text/html": [
       "<div>\n",
       "<style scoped>\n",
       "    .dataframe tbody tr th:only-of-type {\n",
       "        vertical-align: middle;\n",
       "    }\n",
       "\n",
       "    .dataframe tbody tr th {\n",
       "        vertical-align: top;\n",
       "    }\n",
       "\n",
       "    .dataframe thead th {\n",
       "        text-align: right;\n",
       "    }\n",
       "</style>\n",
       "<table border=\"1\" class=\"dataframe\">\n",
       "  <thead>\n",
       "    <tr style=\"text-align: right;\">\n",
       "      <th></th>\n",
       "      <th>Client Category</th>\n",
       "      <th>Solution Type</th>\n",
       "      <th>Deal Date</th>\n",
       "      <th>Sector</th>\n",
       "      <th>Location</th>\n",
       "      <th>VP Name</th>\n",
       "      <th>Manager Name</th>\n",
       "      <th>Deal Cost</th>\n",
       "      <th>Deal Status Code</th>\n",
       "      <th>Wrangled Category</th>\n",
       "    </tr>\n",
       "  </thead>\n",
       "  <tbody>\n",
       "  </tbody>\n",
       "</table>\n",
       "</div>"
      ],
      "text/plain": [
       "Empty DataFrame\n",
       "Columns: [Client Category, Solution Type, Deal Date, Sector, Location, VP Name, Manager Name, Deal Cost, Deal Status Code, Wrangled Category]\n",
       "Index: []"
      ]
     },
     "execution_count": 23,
     "metadata": {},
     "output_type": "execute_result"
    }
   ],
   "source": [
    "Data[Data[\"Deal Cost\"]<1]"
   ]
  },
  {
   "cell_type": "code",
   "execution_count": 24,
   "metadata": {},
   "outputs": [
    {
     "data": {
      "image/png": "[encoded data removed]",
      "text/plain": [
       "<Figure size 432x288 with 1 Axes>"
      ]
     },
     "metadata": {
      "needs_background": "light"
     },
     "output_type": "display_data"
    }
   ],
   "source": [
    "import seaborn as sns\n",
    "sns.boxplot(y=\"Deal Cost\", data=Data);"
   ]
  },
  {
   "cell_type": "code",
   "execution_count": 25,
   "metadata": {},
   "outputs": [
    {
     "data": {
      "image/png": "[encoded data removed]",
      "text/plain": [
       "<Figure size 1152x576 with 2 Axes>"
      ]
     },
     "metadata": {
      "needs_background": "light"
     },
     "output_type": "display_data"
    }
   ],
   "source": [
    "plt.figure(figsize=(16,8))\n",
    "plt.subplot(2,2,1)\n",
    "sns.distplot(Data[\"Deal Cost\"])\n",
    "plt.subplot(2,2,2)\n",
    "sns.boxplot(Data[\"Deal Cost\"])\n",
    "plt.show()"
   ]
  },
  {
   "cell_type": "code",
   "execution_count": 26,
   "metadata": {},
   "outputs": [
    {
     "data": {
      "text/plain": [
       "array(['Service', 'Organitional', 'Miscellineous', 'Market', 'Banking',\n",
       "       'Source', 'Growth', 'Technology', 'Health', 'Commute', 'Education'],\n",
       "      dtype=object)"
      ]
     },
     "execution_count": 26,
     "metadata": {},
     "output_type": "execute_result"
    }
   ],
   "source": [
    "Data['Wrangled Category'].unique()"
   ]
  },
  {
   "cell_type": "code",
   "execution_count": 28,
   "metadata": {},
   "outputs": [
    {
     "data": {
      "image/png": "[encoded data removed]",
      "text/plain": [
       "<Figure size 720x576 with 1 Axes>"
      ]
     },
     "metadata": {
      "needs_background": "light"
     },
     "output_type": "display_data"
    }
   ],
   "source": [
    "plt.figure(figsize=(10,8))\n",
    "plt.scatter(x=Data['Wrangled Category'],y=Data[\"Deal Cost\"])\n",
    "plt.show()"
   ]
  },
  {
   "cell_type": "code",
   "execution_count": 29,
   "metadata": {},
   "outputs": [
    {
     "data": {
      "text/plain": [
       "<AxesSubplot:xlabel='Wrangled Category', ylabel='Deal Cost'>"
      ]
     },
     "execution_count": 29,
     "metadata": {},
     "output_type": "execute_result"
    },
    {
     "data": {
      "image/png": "[encoded data removed]",
      "text/plain": [
       "<Figure size 1008x576 with 1 Axes>"
      ]
     },
     "metadata": {
      "needs_background": "light"
     },
     "output_type": "display_data"
    }
   ],
   "source": [
    "plt.figure(figsize=(14,8))\n",
    "sns.boxplot(x='Wrangled Category', y=\"Deal Cost\",hue=\"Deal Status Code\", data=Data)"
   ]
  },
  {
   "cell_type": "code",
   "execution_count": 30,
   "metadata": {},
   "outputs": [],
   "source": [
    "for i in Data['Wrangled Category'].unique():\n",
    "    for l in range(0,2):\n",
    "    # Treating outliers in Deal Cost column\n",
    "        percentiles = Data['Deal Cost'][(Data['Wrangled Category']==str(i))&(Data[\"Deal Status Code\"]==int(l))].quantile([0.01\n",
    "                                                                                                                ,0.99]).values\n",
    "        #IQR\n",
    "        Q1 = np.percentile( Data['Deal Cost'][(Data['Wrangled Category']==str(i))&(Data[\"Deal Status Code\"]==int(l))], 25, \n",
    "                       interpolation = 'linear') \n",
    "\n",
    "        Q3 = np.percentile( Data['Deal Cost'][(Data['Wrangled Category']==str(i))&(Data[\"Deal Status Code\"]==int(l))],75,\n",
    "                       interpolation = 'linear') \n",
    "        IQR = Q3 - Q1 \n",
    "\n",
    "    #creating upper and lower variables column wise\n",
    "\n",
    "        Outlier_lower=(Q1-1.5*IQR)\n",
    "        Outlier_upper=(Q3+1.5*IQR)\n",
    "    # #treatment\n",
    "        Data['Deal Cost'][(Data['Wrangled Category']==str(i))&(Data[\"Deal Status Code\"]==int(l))]=np.where(\n",
    "                     Data['Deal Cost'][(Data['Wrangled Category']==str(i))&(Data[\"Deal Status Code\"]==int(l))]>= (Q3+1.5*IQR),\n",
    "                     Outlier_upper,Data['Deal Cost'][(Data['Wrangled Category']==str(i))&(Data[\"Deal Status Code\"]==int(l))])\n",
    "        Data['Deal Cost'][(Data['Wrangled Category']==str(i))&(Data[\"Deal Status Code\"]==int(l))]=np.where(\n",
    "                     Data['Deal Cost'][(Data['Wrangled Category']==str(i))&(Data[\"Deal Status Code\"]==int(l))]<= (Q1-1.5*IQR),\n",
    "                     Outlier_lower,Data['Deal Cost'][(Data['Wrangled Category']==str(i))&(Data[\"Deal Status Code\"]==int(l))])    "
   ]
  },
  {
   "cell_type": "code",
   "execution_count": 31,
   "metadata": {},
   "outputs": [
    {
     "data": {
      "text/plain": [
       "<AxesSubplot:xlabel='Wrangled Category', ylabel='Deal Cost'>"
      ]
     },
     "execution_count": 31,
     "metadata": {},
     "output_type": "execute_result"
    },
    {
     "data": {
      "image/png": "[encoded data removed]",
      "text/plain": [
       "<Figure size 1008x576 with 1 Axes>"
      ]
     },
     "metadata": {
      "needs_background": "light"
     },
     "output_type": "display_data"
    }
   ],
   "source": [
    "plt.figure(figsize=(14,8))\n",
    "sns.boxplot(x='Wrangled Category', y=\"Deal Cost\",hue=\"Deal Status Code\", data=Data)"
   ]
  },
  {
   "cell_type": "markdown",
   "metadata": {},
   "source": [
    "### Feature Engineering"
   ]
  },
  {
   "cell_type": "code",
   "execution_count": 32,
   "metadata": {},
   "outputs": [],
   "source": [
    "Data['Year']=Data['Deal Date'].dt.year"
   ]
  },
  {
   "cell_type": "code",
   "execution_count": 33,
   "metadata": {},
   "outputs": [],
   "source": [
    "Data['Month']=Data['Deal Date'].dt.month"
   ]
  },
  {
   "cell_type": "code",
   "execution_count": 34,
   "metadata": {},
   "outputs": [
    {
     "data": {
      "text/html": [
       "<div>\n",
       "<style scoped>\n",
       "    .dataframe tbody tr th:only-of-type {\n",
       "        vertical-align: middle;\n",
       "    }\n",
       "\n",
       "    .dataframe tbody tr th {\n",
       "        vertical-align: top;\n",
       "    }\n",
       "\n",
       "    .dataframe thead th {\n",
       "        text-align: right;\n",
       "    }\n",
       "</style>\n",
       "<table border=\"1\" class=\"dataframe\">\n",
       "  <thead>\n",
       "    <tr style=\"text-align: right;\">\n",
       "      <th></th>\n",
       "      <th>Client Category</th>\n",
       "      <th>Solution Type</th>\n",
       "      <th>Deal Date</th>\n",
       "      <th>Sector</th>\n",
       "      <th>Location</th>\n",
       "      <th>VP Name</th>\n",
       "      <th>Manager Name</th>\n",
       "      <th>Deal Cost</th>\n",
       "      <th>Deal Status Code</th>\n",
       "      <th>Wrangled Category</th>\n",
       "      <th>Year</th>\n",
       "      <th>Month</th>\n",
       "    </tr>\n",
       "  </thead>\n",
       "  <tbody>\n",
       "    <tr>\n",
       "      <th>0</th>\n",
       "      <td>Telecom</td>\n",
       "      <td>Solution 7</td>\n",
       "      <td>2012-03-27</td>\n",
       "      <td>Sector 24</td>\n",
       "      <td>L5</td>\n",
       "      <td>Ekta zutshi</td>\n",
       "      <td>Gopa trilochana</td>\n",
       "      <td>150000.00</td>\n",
       "      <td>1</td>\n",
       "      <td>Service</td>\n",
       "      <td>2012</td>\n",
       "      <td>3</td>\n",
       "    </tr>\n",
       "    <tr>\n",
       "      <th>1</th>\n",
       "      <td>Telecom</td>\n",
       "      <td>Solution 7</td>\n",
       "      <td>2012-09-25</td>\n",
       "      <td>Sector 24</td>\n",
       "      <td>L5</td>\n",
       "      <td>Ekta zutshi</td>\n",
       "      <td>Gopa trilochana</td>\n",
       "      <td>744705.88</td>\n",
       "      <td>1</td>\n",
       "      <td>Service</td>\n",
       "      <td>2012</td>\n",
       "      <td>9</td>\n",
       "    </tr>\n",
       "    <tr>\n",
       "      <th>2</th>\n",
       "      <td>Internal</td>\n",
       "      <td>Solution 59</td>\n",
       "      <td>2011-08-01</td>\n",
       "      <td>Sector 20</td>\n",
       "      <td>Others</td>\n",
       "      <td>Ekta zutshi</td>\n",
       "      <td>Russell dahlen</td>\n",
       "      <td>60000.00</td>\n",
       "      <td>0</td>\n",
       "      <td>Organitional</td>\n",
       "      <td>2011</td>\n",
       "      <td>8</td>\n",
       "    </tr>\n",
       "    <tr>\n",
       "      <th>3</th>\n",
       "      <td>Internal</td>\n",
       "      <td>Solution 59</td>\n",
       "      <td>2011-04-28</td>\n",
       "      <td>Sector 20</td>\n",
       "      <td>Others</td>\n",
       "      <td>Ekta zutshi</td>\n",
       "      <td>Russell dahlen</td>\n",
       "      <td>60000.00</td>\n",
       "      <td>0</td>\n",
       "      <td>Organitional</td>\n",
       "      <td>2011</td>\n",
       "      <td>4</td>\n",
       "    </tr>\n",
       "    <tr>\n",
       "      <th>4</th>\n",
       "      <td>Internal</td>\n",
       "      <td>Solution 32</td>\n",
       "      <td>2011-06-03</td>\n",
       "      <td>Sector 20</td>\n",
       "      <td>Others</td>\n",
       "      <td>Ekta zutshi</td>\n",
       "      <td>Russell dahlen</td>\n",
       "      <td>80882.35</td>\n",
       "      <td>0</td>\n",
       "      <td>Organitional</td>\n",
       "      <td>2011</td>\n",
       "      <td>6</td>\n",
       "    </tr>\n",
       "  </tbody>\n",
       "</table>\n",
       "</div>"
      ],
      "text/plain": [
       "  Client Category Solution Type  Deal Date     Sector Location      VP Name  \\\n",
       "0         Telecom    Solution 7 2012-03-27  Sector 24       L5  Ekta zutshi   \n",
       "1         Telecom    Solution 7 2012-09-25  Sector 24       L5  Ekta zutshi   \n",
       "2        Internal   Solution 59 2011-08-01  Sector 20   Others  Ekta zutshi   \n",
       "3        Internal   Solution 59 2011-04-28  Sector 20   Others  Ekta zutshi   \n",
       "4        Internal   Solution 32 2011-06-03  Sector 20   Others  Ekta zutshi   \n",
       "\n",
       "      Manager Name  Deal Cost  Deal Status Code Wrangled Category  Year  Month  \n",
       "0  Gopa trilochana  150000.00                 1           Service  2012      3  \n",
       "1  Gopa trilochana  744705.88                 1           Service  2012      9  \n",
       "2   Russell dahlen   60000.00                 0      Organitional  2011      8  \n",
       "3   Russell dahlen   60000.00                 0      Organitional  2011      4  \n",
       "4   Russell dahlen   80882.35                 0      Organitional  2011      6  "
      ]
     },
     "execution_count": 34,
     "metadata": {},
     "output_type": "execute_result"
    }
   ],
   "source": [
    "Data.head(5)"
   ]
  },
  {
   "cell_type": "code",
   "execution_count": 35,
   "metadata": {},
   "outputs": [
    {
     "data": {
      "text/plain": [
       "(10047, 12)"
      ]
     },
     "execution_count": 35,
     "metadata": {},
     "output_type": "execute_result"
    }
   ],
   "source": [
    "Data.shape"
   ]
  },
  {
   "cell_type": "code",
   "execution_count": 36,
   "metadata": {},
   "outputs": [
    {
     "data": {
      "text/plain": [
       "Client Category      0\n",
       "Solution Type        0\n",
       "Deal Date            0\n",
       "Sector               0\n",
       "Location             0\n",
       "VP Name              0\n",
       "Manager Name         0\n",
       "Deal Cost            0\n",
       "Deal Status Code     0\n",
       "Wrangled Category    0\n",
       "Year                 0\n",
       "Month                0\n",
       "dtype: int64"
      ]
     },
     "execution_count": 36,
     "metadata": {},
     "output_type": "execute_result"
    }
   ],
   "source": [
    "Data.isna().sum()"
   ]
  },
  {
   "cell_type": "code",
   "execution_count": 37,
   "metadata": {},
   "outputs": [
    {
     "data": {
      "text/plain": [
       "Index(['Client Category', 'Solution Type', 'Deal Date', 'Sector', 'Location',\n",
       "       'VP Name', 'Manager Name', 'Deal Cost', 'Deal Status Code',\n",
       "       'Wrangled Category', 'Year', 'Month'],\n",
       "      dtype='object')"
      ]
     },
     "execution_count": 37,
     "metadata": {},
     "output_type": "execute_result"
    }
   ],
   "source": [
    "Data.columns"
   ]
  },
  {
   "cell_type": "code",
   "execution_count": 38,
   "metadata": {},
   "outputs": [
    {
     "data": {
      "text/plain": [
       "43"
      ]
     },
     "execution_count": 38,
     "metadata": {},
     "output_type": "execute_result"
    }
   ],
   "source": [
    "Data['VP Name'].nunique()"
   ]
  },
  {
   "cell_type": "code",
   "execution_count": 39,
   "metadata": {},
   "outputs": [],
   "source": [
    "Data['VP Name']=Data['VP Name'].str.replace(r'\\xa0', ' ')"
   ]
  },
  {
   "cell_type": "code",
   "execution_count": 40,
   "metadata": {},
   "outputs": [
    {
     "data": {
      "text/plain": [
       "array(['Ekta zutshi', 'Mervin harwood', 'Sargar deep rao', 'Lilli storrs',\n",
       "       'Long bergstrom', 'Rosanna maynez', 'Mangesh k. singh',\n",
       "       'Brendon wycoff', 'Neeraj kumar', 'Rahul bajpai',\n",
       "       'Son mcconnaughy', 'Saurabh singh', 'Rudraksh sharma',\n",
       "       'Hardeep suksma', 'Varsha arora', 'Som dutt', 'Ankita aggarwal',\n",
       "       'Clinton mani', 'Marcella mo', 'Dennis faux', 'Earline langton',\n",
       "       'Russell dahlen', 'Gopa trilochana', 'Kamelesh srinivasan',\n",
       "       'Gaurav sameria', 'Manpreet singh', 'Man suddeth', 'Molly eakes',\n",
       "       'Vidur hukle', 'Gayle molter', 'Alam syed', 'Rahul kocher',\n",
       "       'Vikram rawat', 'Jewell tunstall', 'Jitendra choudhary',\n",
       "       'Mayank mewar', 'Kirk hofmeister', 'P. somya', 'Prashant rawat',\n",
       "       'Visvajeet das', 'Waylon mulder', 'Sarthak batra', 'Md. afsar'],\n",
       "      dtype=object)"
      ]
     },
     "execution_count": 40,
     "metadata": {},
     "output_type": "execute_result"
    }
   ],
   "source": [
    "Data['VP Name'].unique()"
   ]
  },
  {
   "cell_type": "code",
   "execution_count": 41,
   "metadata": {},
   "outputs": [],
   "source": [
    "Data['Manager Name']=Data['Manager Name'].str.replace(r'\\xa0', ' ')"
   ]
  },
  {
   "cell_type": "code",
   "execution_count": 42,
   "metadata": {
    "scrolled": true
   },
   "outputs": [
    {
     "data": {
      "text/plain": [
       "array(['Gopa trilochana', 'Russell dahlen', 'Rahul sharma', 'Vidur hukle',\n",
       "       'Md. daud', 'Hardeep suksma', 'Luv malhotra', 'Lino batterton',\n",
       "       'Sang ingle', 'Shafibul', 'Anand s. pandey', 'Molly eakes',\n",
       "       'Prateek dhotre', 'Roopal singh', 'Desmond krout',\n",
       "       'Jean sappington', 'Mangesh k. singh', 'Abhinav warrier',\n",
       "       'Saurabh singh', 'Tanuj bindra', 'Nahar singh', 'D. ankit ',\n",
       "       'Muoi queener', 'Ayusha gupta', 'Rudraksh sharma', 'Ekta zutshi',\n",
       "       'Fredricka bald', 'Ganesh malwar', 'Kamelesh srinivasan',\n",
       "       'Jewell tunstall', 'Ankita aggarwal', 'Somnath mukherji',\n",
       "       'Tafeeq khan', 'Rosana yokum', 'Gaurav sameria', 'Rahul bajpai',\n",
       "       'Dennis faux', 'Theron rex', 'Shobhit gupta', 'Marcella mo',\n",
       "       'Rahul kocher', 'Akshay sharma', 'Ram kumar', 'Sanchita gulati',\n",
       "       'Mohd shakib', 'Anoop jatley', 'Ralph bohon', 'Mohd khairul',\n",
       "       'Akshansh goel', 'Rajneesh tanwar', 'Manpreet singh',\n",
       "       'Chanchal sharma', 'Vinay kumar', 'Elenor halderman',\n",
       "       'Long bergstrom', 'Karan dubey', 'Subhangi sood', 'Clinton mani',\n",
       "       'Evangeline kepley', 'Vikrant saini', 'Gayle molter',\n",
       "       'Neha sharma', 'Neeraj kumar', 'Jayadev mitali', 'Rijul aggarwal',\n",
       "       'Rahul singh', 'Jitendra choudhary', 'Sunder paal', 'Riyasat ali',\n",
       "       'Evalyn rayner', 'Sooraj vohra', 'Vansu dev', 'David toms',\n",
       "       'Eva harte', 'Ankit bhutani', 'Kizzie troxel', 'Rosanna maynez',\n",
       "       'Mannan upadhiya', 'Nitish bhardwaj', 'Abram fines',\n",
       "       'Natalia dumlao', 'Earline langton', 'Sohil kumar', 'Bhavya saini',\n",
       "       'Lokesh pinani', 'Marcelo riles', 'Mayank chaudhary @ rahul',\n",
       "       'Som dutt', 'Carroll truehart', 'Alam syed', 'Akul jindal',\n",
       "       'Aamir hussain', 'Edmund brigham', 'Annamaria phung',\n",
       "       'Varsha arora', 'Sargar deep rao', 'Mervin harwood',\n",
       "       'Akshansh chaudhary', 'Manish saundriyal', 'Keshar ansari',\n",
       "       'Zulema perrine', 'Rayford durgan', 'Atul chaudhary',\n",
       "       'Roopal chaudhary', 'Sergio cusack', 'Shiv kumar',\n",
       "       'Palmer holmberg', 'Davis gagner', 'Heeman daga', 'Pankaj kumar',\n",
       "       'Prakash dhawale', 'Florencio quiros', 'Herschel flock',\n",
       "       'Preeti mehra', 'Chloe beiler', 'Vincenzo mushrush',\n",
       "       'Doreen amerman', 'Danny bolton', 'Harsh verma', 'Annett mcmillen',\n",
       "       'Anmol mehre', 'Prashant singh', 'Anchal pandey', 'Vikrant soneja',\n",
       "       'Emil knudsen', 'Eesha yadav', 'Bhagwati prasad', 'Gunjan singh',\n",
       "       'Aditya kumar', 'Rahul kumar', 'Randy fontana', 'Abhiskek kumar',\n",
       "       'Ahdarsha jha', 'Kamal jit singh', 'Jayant kalra', 'Darin vath',\n",
       "       'Roop sachdeva', 'Aman singh', 'Sherell peace', 'Tarun garg',\n",
       "       'Akasnah arora', 'Saneel tyagi', 'Rajat bansal', 'Harpreet bedi',\n",
       "       'Bablu regar', 'Shyam kumar', 'Abhishek singhal', 'Sultan khan',\n",
       "       'Darla dickinson', 'Manisha saundriyal', 'Akshay gosh',\n",
       "       'Kaniksh dhyani', 'Sanchita pant', 'Rishab jain', 'Leticia denton',\n",
       "       'Manisha gulati', 'Kendra tripathi', 'Kanika sharma',\n",
       "       'Khadak singh', 'R. t. ramakrishnan', 'Md irshad',\n",
       "       'Ranjnesh tanwar', 'Andrew michalowski', 'Rodney wilkison',\n",
       "       'Nanette hennessee', 'Harshita singh', 'Anish jonson',\n",
       "       'Tanu panwar', 'Shalendra d.', 'Laurine quintanar', 'Kamal deep',\n",
       "       'Karna bhuvennant', 'Vishvajeet kumar', 'Virak kandpal',\n",
       "       'Kim tavernier', 'Rohit', 'Anju nanda', 'Manish johar',\n",
       "       'Sarwan singh', 'Arron hack', 'Akshant garg', 'Vikram rawat',\n",
       "       'Ahswini saini', 'Shiv shakti singh', 'Sierra yamamoto',\n",
       "       'Taran singh', 'Anand vikram', 'Abhiskhek  d', 'Jackie wolfson',\n",
       "       'Umesh kholi', 'Atul kumar', 'Kailash kumar', 'Lalit kathuriya',\n",
       "       'Birender mandal', 'Son mcconnaughy', 'Eula hallowell',\n",
       "       'Raj pinani', 'Mohd ataullah', 'Akshit khanna', 'Ravi chaudhary',\n",
       "       'Siddhant gaur', 'Devendra vishvakarma', 'Ram dutt gupta',\n",
       "       'Chad jamal', 'Thurman niemi', 'Prakash srinivas',\n",
       "       'Millicent firth', 'Varun bhel', 'Lakendra hartgrove',\n",
       "       'Deepak chandra prakash', 'Kamal chandra', 'Donovan rockwood',\n",
       "       'Leeladhar pandey', 'Pooran chand', 'Prashant rawat',\n",
       "       'Sangeet daga', 'Taran deep', 'Sharavan singh', 'Akhil biyas',\n",
       "       'Rishab bhatt', 'Mahesh gulati', 'Jarred parrino', 'Beutune varma',\n",
       "       'Cameron deleeuw', 'Aditya tondon', 'Vinit katariya',\n",
       "       'Jose gamber', 'Rateesh singh', 'Ranjan prakash', 'Johnna lemay',\n",
       "       'Jasmin kaur', 'Genny mcgivney', 'Sheak shakir', 'Naveen dogra',\n",
       "       'Vaibhav singh', 'Martin cheyne', 'Kittie selvey',\n",
       "       'Vaibhav somaskandan', 'Royal garofalo', 'Kamaldeep singh',\n",
       "       'Antonio yelvington', 'Jamil khan', 'Aman gupta',\n",
       "       'Himanshu upadhiya', 'Varun  behl', 'Brenton launius',\n",
       "       'Preetan gujar', 'Geoffrey recker', 'Russ vaz', 'Aastha gandhi',\n",
       "       'Sai s sabitha', 'Sharat chandran', 'Tom blanca',\n",
       "       'Maansingh aswal', 'Farmaan khan', 'Sanjeev diwakar',\n",
       "       'Navita chauhan', 'Sumita verma', 'Gurmit singh', 'Mayank praveen',\n",
       "       'Heath mullarkey', 'Zachary oconner', 'Upendra bhatt',\n",
       "       'Himanshu daga', 'Matt redel', 'Amit jain', 'Joe castorena',\n",
       "       'Ramdin verma', 'Cori gillispie', 'Sanjeev talreja', 'Sumit arora',\n",
       "       'Preston dumire', 'Arti bindra', 'Ike deppen', 'Waseem khan',\n",
       "       'Ali rafiq', 'Uzaar ali', 'Cleotilde biron'], dtype=object)"
      ]
     },
     "execution_count": 42,
     "metadata": {},
     "output_type": "execute_result"
    }
   ],
   "source": [
    "Data['Manager Name'].unique()"
   ]
  },
  {
   "cell_type": "code",
   "execution_count": 43,
   "metadata": {},
   "outputs": [
    {
     "data": {
      "text/plain": [
       "278"
      ]
     },
     "execution_count": 43,
     "metadata": {},
     "output_type": "execute_result"
    }
   ],
   "source": [
    "Data['Manager Name'].nunique()"
   ]
  },
  {
   "cell_type": "code",
   "execution_count": 44,
   "metadata": {},
   "outputs": [],
   "source": [
    "dataset = pd.DataFrame({ \"Deal Date\":Data[\"Deal Date\"],\"Client Category\":Data[\"Wrangled Category\"],\n",
    "                        \"Solution Type\":Data[\"Solution Type\"],\"Sector\":Data[\"Sector\"],\n",
    "                        \"Location\":Data[\"Location\"],\"VP Name\":Data[\"VP Name\"],\"Manager Name\":Data[\"Manager Name\"],\n",
    "                        \"Deal Cost\":Data[\"Deal Cost\"],\"Deal Status Code\":Data[\"Deal Status Code\"]})\n",
    "dataset.to_excel(\"capstone1.xlsx\", index=False)"
   ]
  },
  {
   "cell_type": "code",
   "execution_count": 45,
   "metadata": {},
   "outputs": [],
   "source": [
    "# creating dummies\n",
    "Data = pd.get_dummies(Data, columns = ['Wrangled Category', 'Solution Type', 'Sector', 'Location',\n",
    "       'VP Name', 'Manager Name'],drop_first=True)"
   ]
  },
  {
   "cell_type": "code",
   "execution_count": 46,
   "metadata": {},
   "outputs": [
    {
     "data": {
      "text/html": [
       "<div>\n",
       "<style scoped>\n",
       "    .dataframe tbody tr th:only-of-type {\n",
       "        vertical-align: middle;\n",
       "    }\n",
       "\n",
       "    .dataframe tbody tr th {\n",
       "        vertical-align: top;\n",
       "    }\n",
       "\n",
       "    .dataframe thead th {\n",
       "        text-align: right;\n",
       "    }\n",
       "</style>\n",
       "<table border=\"1\" class=\"dataframe\">\n",
       "  <thead>\n",
       "    <tr style=\"text-align: right;\">\n",
       "      <th></th>\n",
       "      <th>Client Category</th>\n",
       "      <th>Deal Date</th>\n",
       "      <th>Deal Cost</th>\n",
       "      <th>Deal Status Code</th>\n",
       "      <th>Year</th>\n",
       "      <th>Month</th>\n",
       "      <th>Wrangled Category_Commute</th>\n",
       "      <th>Wrangled Category_Education</th>\n",
       "      <th>Wrangled Category_Growth</th>\n",
       "      <th>Wrangled Category_Health</th>\n",
       "      <th>...</th>\n",
       "      <th>Manager Name_Vikrant saini</th>\n",
       "      <th>Manager Name_Vikrant soneja</th>\n",
       "      <th>Manager Name_Vinay kumar</th>\n",
       "      <th>Manager Name_Vincenzo mushrush</th>\n",
       "      <th>Manager Name_Vinit katariya</th>\n",
       "      <th>Manager Name_Virak kandpal</th>\n",
       "      <th>Manager Name_Vishvajeet kumar</th>\n",
       "      <th>Manager Name_Waseem khan</th>\n",
       "      <th>Manager Name_Zachary oconner</th>\n",
       "      <th>Manager Name_Zulema perrine</th>\n",
       "    </tr>\n",
       "  </thead>\n",
       "  <tbody>\n",
       "    <tr>\n",
       "      <th>0</th>\n",
       "      <td>Telecom</td>\n",
       "      <td>2012-03-27</td>\n",
       "      <td>150000.0</td>\n",
       "      <td>1</td>\n",
       "      <td>2012</td>\n",
       "      <td>3</td>\n",
       "      <td>0</td>\n",
       "      <td>0</td>\n",
       "      <td>0</td>\n",
       "      <td>0</td>\n",
       "      <td>...</td>\n",
       "      <td>0</td>\n",
       "      <td>0</td>\n",
       "      <td>0</td>\n",
       "      <td>0</td>\n",
       "      <td>0</td>\n",
       "      <td>0</td>\n",
       "      <td>0</td>\n",
       "      <td>0</td>\n",
       "      <td>0</td>\n",
       "      <td>0</td>\n",
       "    </tr>\n",
       "  </tbody>\n",
       "</table>\n",
       "<p>1 rows × 437 columns</p>\n",
       "</div>"
      ],
      "text/plain": [
       "  Client Category  Deal Date  Deal Cost  Deal Status Code  Year  Month  \\\n",
       "0         Telecom 2012-03-27   150000.0                 1  2012      3   \n",
       "\n",
       "   Wrangled Category_Commute  Wrangled Category_Education  \\\n",
       "0                          0                            0   \n",
       "\n",
       "   Wrangled Category_Growth  Wrangled Category_Health  ...  \\\n",
       "0                         0                         0  ...   \n",
       "\n",
       "   Manager Name_Vikrant saini  Manager Name_Vikrant soneja  \\\n",
       "0                           0                            0   \n",
       "\n",
       "   Manager Name_Vinay kumar  Manager Name_Vincenzo mushrush  \\\n",
       "0                         0                               0   \n",
       "\n",
       "   Manager Name_Vinit katariya  Manager Name_Virak kandpal  \\\n",
       "0                            0                           0   \n",
       "\n",
       "   Manager Name_Vishvajeet kumar  Manager Name_Waseem khan  \\\n",
       "0                              0                         0   \n",
       "\n",
       "   Manager Name_Zachary oconner  Manager Name_Zulema perrine  \n",
       "0                             0                            0  \n",
       "\n",
       "[1 rows x 437 columns]"
      ]
     },
     "execution_count": 46,
     "metadata": {},
     "output_type": "execute_result"
    }
   ],
   "source": [
    "Data.head(1)"
   ]
  },
  {
   "cell_type": "code",
   "execution_count": 47,
   "metadata": {},
   "outputs": [],
   "source": [
    "#### model building"
   ]
  },
  {
   "cell_type": "code",
   "execution_count": 48,
   "metadata": {},
   "outputs": [
    {
     "data": {
      "text/plain": [
       "LogisticRegression()"
      ]
     },
     "execution_count": 48,
     "metadata": {},
     "output_type": "execute_result"
    }
   ],
   "source": [
    "## logistic algorithm\n",
    "\n",
    "from sklearn.model_selection import train_test_split\n",
    "X_train, X_test, y_train, y_test = train_test_split(Data.drop(['Deal Date','Client Category'],axis=1)\n",
    "                                                    ,Data['Deal Status Code'], test_size=0.30, \n",
    "                                                    random_state=1993)\n",
    "from sklearn.linear_model import LogisticRegression\n",
    "logmodel = LogisticRegression()\n",
    "logmodel.fit(X_train,y_train)"
   ]
  },
  {
   "cell_type": "code",
   "execution_count": 49,
   "metadata": {},
   "outputs": [],
   "source": [
    "predictions = logmodel.predict(X_test)"
   ]
  },
  {
   "cell_type": "code",
   "execution_count": 50,
   "metadata": {},
   "outputs": [],
   "source": [
    "import sklearn.metrics as metrics\n",
    "from sklearn.metrics import classification_report,f1_score, confusion_matrix"
   ]
  },
  {
   "cell_type": "code",
   "execution_count": 51,
   "metadata": {},
   "outputs": [
    {
     "name": "stdout",
     "output_type": "stream",
     "text": [
      "              precision    recall  f1-score   support\n",
      "\n",
      "           0       0.63      1.00      0.77      1902\n",
      "           1       0.00      0.00      0.00      1113\n",
      "\n",
      "    accuracy                           0.63      3015\n",
      "   macro avg       0.32      0.50      0.39      3015\n",
      "weighted avg       0.40      0.63      0.49      3015\n",
      "\n"
     ]
    }
   ],
   "source": [
    "print(metrics.classification_report(y_test,predictions))"
   ]
  },
  {
   "cell_type": "code",
   "execution_count": 52,
   "metadata": {},
   "outputs": [
    {
     "data": {
      "text/plain": [
       "array([[1902,    0],\n",
       "       [1113,    0]], dtype=int64)"
      ]
     },
     "execution_count": 52,
     "metadata": {},
     "output_type": "execute_result"
    }
   ],
   "source": [
    "metrics.confusion_matrix(y_test,predictions)"
   ]
  },
  {
   "cell_type": "code",
   "execution_count": 53,
   "metadata": {},
   "outputs": [
    {
     "name": "stdout",
     "output_type": "stream",
     "text": [
      "              precision    recall  f1-score   support\n",
      "\n",
      "           0       0.62      1.00      0.77      4390\n",
      "           1       0.00      0.00      0.00      2642\n",
      "\n",
      "    accuracy                           0.62      7032\n",
      "   macro avg       0.31      0.50      0.38      7032\n",
      "weighted avg       0.39      0.62      0.48      7032\n",
      "\n"
     ]
    }
   ],
   "source": [
    "z=logmodel.predict(X_train)\n",
    "print(classification_report(y_train,z))"
   ]
  },
  {
   "cell_type": "code",
   "execution_count": 54,
   "metadata": {},
   "outputs": [],
   "source": [
    "from sklearn.metrics import roc_curve, auc, roc_auc_score"
   ]
  },
  {
   "cell_type": "code",
   "execution_count": 55,
   "metadata": {},
   "outputs": [
    {
     "data": {
      "image/png": "[encoded data removed]",
      "text/plain": [
       "<Figure size 480x320 with 1 Axes>"
      ]
     },
     "metadata": {
      "needs_background": "light"
     },
     "output_type": "display_data"
    }
   ],
   "source": [
    "from matplotlib.pyplot import figure\n",
    "figure(figsize=(6,4), dpi=80)\n",
    "false_positive_rate, true_positive_rate, thresholds = roc_curve(y_test, logmodel.predict_proba(X_test)[:,1])\n",
    "prob=logmodel.predict_proba(X_train)[:,1]\n",
    "fpr, tpr, threshold=metrics.roc_curve (y_train, prob) \n",
    "plt.plot([0,1],[0,1], 'k--') \n",
    "plt.plot(fpr, tpr, label='Logistic Regression') \n",
    "plt.xlabel('False_Positive') \n",
    "plt.ylabel(\"True_Positive\") \n",
    "plt.show()"
   ]
  },
  {
   "cell_type": "code",
   "execution_count": 56,
   "metadata": {},
   "outputs": [],
   "source": [
    "from sklearn.model_selection import GridSearchCV"
   ]
  },
  {
   "cell_type": "code",
   "execution_count": 93,
   "metadata": {},
   "outputs": [],
   "source": [
    "##RAndom forest"
   ]
  },
  {
   "cell_type": "code",
   "execution_count": 94,
   "metadata": {},
   "outputs": [],
   "source": [
    "\n",
    "from sklearn.ensemble import RandomForestClassifier\n",
    "from sklearn.datasets import make_classification\n",
    "\n",
    "forest = RandomForestClassifier(criterion='gini',random_state=0)\n",
    "\n",
    "forest.fit(X_train, y_train)\n",
    "param_grid = {'max_depth': [2,3,4] , \n",
    "              'max_features': ['auto','sqrt'],\n",
    "              'n_estimators': [100,150,200,250,300,350]}\n",
    "grid2 = GridSearchCV(forest,\n",
    "                    param_grid,\n",
    "                    verbose=5,\n",
    "                    cv = 6,scoring=\"accuracy\")\n"
   ]
  },
  {
   "cell_type": "code",
   "execution_count": 95,
   "metadata": {},
   "outputs": [
    {
     "name": "stdout",
     "output_type": "stream",
     "text": [
      "Fitting 6 folds for each of 36 candidates, totalling 216 fits\n",
      "[CV 1/6] END max_depth=2, max_features=auto, n_estimators=100; total time=   0.3s\n",
      "[CV 2/6] END max_depth=2, max_features=auto, n_estimators=100; total time=   0.3s\n",
      "[CV 3/6] END max_depth=2, max_features=auto, n_estimators=100; total time=   0.3s\n",
      "[CV 4/6] END max_depth=2, max_features=auto, n_estimators=100; total time=   0.3s\n",
      "[CV 5/6] END max_depth=2, max_features=auto, n_estimators=100; total time=   0.3s\n",
      "[CV 6/6] END max_depth=2, max_features=auto, n_estimators=100; total time=   0.3s\n",
      "[CV 1/6] END max_depth=2, max_features=auto, n_estimators=150; total time=   0.4s\n",
      "[CV 2/6] END max_depth=2, max_features=auto, n_estimators=150; total time=   0.4s\n",
      "[CV 3/6] END max_depth=2, max_features=auto, n_estimators=150; total time=   0.4s\n",
      "[CV 4/6] END max_depth=2, max_features=auto, n_estimators=150; total time=   0.4s\n",
      "[CV 5/6] END max_depth=2, max_features=auto, n_estimators=150; total time=   0.4s\n",
      "[CV 6/6] END max_depth=2, max_features=auto, n_estimators=150; total time=   0.4s\n",
      "[CV 1/6] END max_depth=2, max_features=auto, n_estimators=200; total time=   0.5s\n",
      "[CV 2/6] END max_depth=2, max_features=auto, n_estimators=200; total time=   0.6s\n",
      "[CV 3/6] END max_depth=2, max_features=auto, n_estimators=200; total time=   0.6s\n",
      "[CV 4/6] END max_depth=2, max_features=auto, n_estimators=200; total time=   0.6s\n",
      "[CV 5/6] END max_depth=2, max_features=auto, n_estimators=200; total time=   0.6s\n",
      "[CV 6/6] END max_depth=2, max_features=auto, n_estimators=200; total time=   0.6s\n",
      "[CV 1/6] END max_depth=2, max_features=auto, n_estimators=250; total time=   0.7s\n",
      "[CV 2/6] END max_depth=2, max_features=auto, n_estimators=250; total time=   0.9s\n",
      "[CV 3/6] END max_depth=2, max_features=auto, n_estimators=250; total time=   0.7s\n",
      "[CV 4/6] END max_depth=2, max_features=auto, n_estimators=250; total time=   0.7s\n",
      "[CV 5/6] END max_depth=2, max_features=auto, n_estimators=250; total time=   0.7s\n",
      "[CV 6/6] END max_depth=2, max_features=auto, n_estimators=250; total time=   0.7s\n",
      "[CV 1/6] END max_depth=2, max_features=auto, n_estimators=300; total time=   0.9s\n",
      "[CV 2/6] END max_depth=2, max_features=auto, n_estimators=300; total time=   0.9s\n",
      "[CV 3/6] END max_depth=2, max_features=auto, n_estimators=300; total time=   0.9s\n",
      "[CV 4/6] END max_depth=2, max_features=auto, n_estimators=300; total time=   0.9s\n",
      "[CV 5/6] END max_depth=2, max_features=auto, n_estimators=300; total time=   0.9s\n",
      "[CV 6/6] END max_depth=2, max_features=auto, n_estimators=300; total time=   0.9s\n",
      "[CV 1/6] END max_depth=2, max_features=auto, n_estimators=350; total time=   1.0s\n",
      "[CV 2/6] END max_depth=2, max_features=auto, n_estimators=350; total time=   1.0s\n",
      "[CV 3/6] END max_depth=2, max_features=auto, n_estimators=350; total time=   1.0s\n",
      "[CV 4/6] END max_depth=2, max_features=auto, n_estimators=350; total time=   1.0s\n",
      "[CV 5/6] END max_depth=2, max_features=auto, n_estimators=350; total time=   1.0s\n",
      "[CV 6/6] END max_depth=2, max_features=auto, n_estimators=350; total time=   1.2s\n",
      "[CV 1/6] END max_depth=2, max_features=sqrt, n_estimators=100; total time=   0.3s\n",
      "[CV 2/6] END max_depth=2, max_features=sqrt, n_estimators=100; total time=   0.3s\n",
      "[CV 3/6] END max_depth=2, max_features=sqrt, n_estimators=100; total time=   0.3s\n",
      "[CV 4/6] END max_depth=2, max_features=sqrt, n_estimators=100; total time=   0.3s\n",
      "[CV 5/6] END max_depth=2, max_features=sqrt, n_estimators=100; total time=   0.3s\n",
      "[CV 6/6] END max_depth=2, max_features=sqrt, n_estimators=100; total time=   0.3s\n",
      "[CV 1/6] END max_depth=2, max_features=sqrt, n_estimators=150; total time=   0.4s\n",
      "[CV 2/6] END max_depth=2, max_features=sqrt, n_estimators=150; total time=   0.4s\n",
      "[CV 3/6] END max_depth=2, max_features=sqrt, n_estimators=150; total time=   0.4s\n",
      "[CV 4/6] END max_depth=2, max_features=sqrt, n_estimators=150; total time=   0.4s\n",
      "[CV 5/6] END max_depth=2, max_features=sqrt, n_estimators=150; total time=   0.4s\n",
      "[CV 6/6] END max_depth=2, max_features=sqrt, n_estimators=150; total time=   0.4s\n",
      "[CV 1/6] END max_depth=2, max_features=sqrt, n_estimators=200; total time=   0.6s\n",
      "[CV 2/6] END max_depth=2, max_features=sqrt, n_estimators=200; total time=   0.6s\n",
      "[CV 3/6] END max_depth=2, max_features=sqrt, n_estimators=200; total time=   0.6s\n",
      "[CV 4/6] END max_depth=2, max_features=sqrt, n_estimators=200; total time=   0.6s\n",
      "[CV 5/6] END max_depth=2, max_features=sqrt, n_estimators=200; total time=   0.6s\n",
      "[CV 6/6] END max_depth=2, max_features=sqrt, n_estimators=200; total time=   0.6s\n",
      "[CV 1/6] END max_depth=2, max_features=sqrt, n_estimators=250; total time=   0.7s\n",
      "[CV 2/6] END max_depth=2, max_features=sqrt, n_estimators=250; total time=   0.7s\n",
      "[CV 3/6] END max_depth=2, max_features=sqrt, n_estimators=250; total time=   0.7s\n",
      "[CV 4/6] END max_depth=2, max_features=sqrt, n_estimators=250; total time=   0.7s\n",
      "[CV 5/6] END max_depth=2, max_features=sqrt, n_estimators=250; total time=   0.7s\n",
      "[CV 6/6] END max_depth=2, max_features=sqrt, n_estimators=250; total time=   0.7s\n",
      "[CV 1/6] END max_depth=2, max_features=sqrt, n_estimators=300; total time=   0.9s\n",
      "[CV 2/6] END max_depth=2, max_features=sqrt, n_estimators=300; total time=   1.0s\n",
      "[CV 3/6] END max_depth=2, max_features=sqrt, n_estimators=300; total time=   0.9s\n",
      "[CV 4/6] END max_depth=2, max_features=sqrt, n_estimators=300; total time=   0.9s\n",
      "[CV 5/6] END max_depth=2, max_features=sqrt, n_estimators=300; total time=   0.9s\n",
      "[CV 6/6] END max_depth=2, max_features=sqrt, n_estimators=300; total time=   0.9s\n",
      "[CV 1/6] END max_depth=2, max_features=sqrt, n_estimators=350; total time=   1.0s\n",
      "[CV 2/6] END max_depth=2, max_features=sqrt, n_estimators=350; total time=   1.0s\n",
      "[CV 3/6] END max_depth=2, max_features=sqrt, n_estimators=350; total time=   1.2s\n",
      "[CV 4/6] END max_depth=2, max_features=sqrt, n_estimators=350; total time=   1.1s\n",
      "[CV 5/6] END max_depth=2, max_features=sqrt, n_estimators=350; total time=   1.0s\n",
      "[CV 6/6] END max_depth=2, max_features=sqrt, n_estimators=350; total time=   1.0s\n",
      "[CV 1/6] END max_depth=3, max_features=auto, n_estimators=100; total time=   0.3s\n",
      "[CV 2/6] END max_depth=3, max_features=auto, n_estimators=100; total time=   0.3s\n",
      "[CV 3/6] END max_depth=3, max_features=auto, n_estimators=100; total time=   0.3s\n",
      "[CV 4/6] END max_depth=3, max_features=auto, n_estimators=100; total time=   0.3s\n",
      "[CV 5/6] END max_depth=3, max_features=auto, n_estimators=100; total time=   0.3s\n",
      "[CV 6/6] END max_depth=3, max_features=auto, n_estimators=100; total time=   0.3s\n",
      "[CV 1/6] END max_depth=3, max_features=auto, n_estimators=150; total time=   0.5s\n",
      "[CV 2/6] END max_depth=3, max_features=auto, n_estimators=150; total time=   0.5s\n",
      "[CV 3/6] END max_depth=3, max_features=auto, n_estimators=150; total time=   0.5s\n",
      "[CV 4/6] END max_depth=3, max_features=auto, n_estimators=150; total time=   0.5s\n",
      "[CV 5/6] END max_depth=3, max_features=auto, n_estimators=150; total time=   0.5s\n",
      "[CV 6/6] END max_depth=3, max_features=auto, n_estimators=150; total time=   0.5s\n",
      "[CV 1/6] END max_depth=3, max_features=auto, n_estimators=200; total time=   0.7s\n",
      "[CV 2/6] END max_depth=3, max_features=auto, n_estimators=200; total time=   0.6s\n",
      "[CV 3/6] END max_depth=3, max_features=auto, n_estimators=200; total time=   0.6s\n",
      "[CV 4/6] END max_depth=3, max_features=auto, n_estimators=200; total time=   0.7s\n",
      "[CV 5/6] END max_depth=3, max_features=auto, n_estimators=200; total time=   0.7s\n",
      "[CV 6/6] END max_depth=3, max_features=auto, n_estimators=200; total time=   0.7s\n",
      "[CV 1/6] END max_depth=3, max_features=auto, n_estimators=250; total time=   0.8s\n",
      "[CV 2/6] END max_depth=3, max_features=auto, n_estimators=250; total time=   0.8s\n",
      "[CV 3/6] END max_depth=3, max_features=auto, n_estimators=250; total time=   0.8s\n",
      "[CV 4/6] END max_depth=3, max_features=auto, n_estimators=250; total time=   0.9s\n",
      "[CV 5/6] END max_depth=3, max_features=auto, n_estimators=250; total time=   0.9s\n",
      "[CV 6/6] END max_depth=3, max_features=auto, n_estimators=250; total time=   0.8s\n",
      "[CV 1/6] END max_depth=3, max_features=auto, n_estimators=300; total time=   1.0s\n",
      "[CV 2/6] END max_depth=3, max_features=auto, n_estimators=300; total time=   1.0s\n",
      "[CV 3/6] END max_depth=3, max_features=auto, n_estimators=300; total time=   1.0s\n",
      "[CV 4/6] END max_depth=3, max_features=auto, n_estimators=300; total time=   1.1s\n"
     ]
    },
    {
     "name": "stdout",
     "output_type": "stream",
     "text": [
      "[CV 5/6] END max_depth=3, max_features=auto, n_estimators=300; total time=   1.0s\n",
      "[CV 6/6] END max_depth=3, max_features=auto, n_estimators=300; total time=   1.0s\n",
      "[CV 1/6] END max_depth=3, max_features=auto, n_estimators=350; total time=   1.2s\n",
      "[CV 2/6] END max_depth=3, max_features=auto, n_estimators=350; total time=   1.3s\n",
      "[CV 3/6] END max_depth=3, max_features=auto, n_estimators=350; total time=   1.2s\n",
      "[CV 4/6] END max_depth=3, max_features=auto, n_estimators=350; total time=   1.2s\n",
      "[CV 5/6] END max_depth=3, max_features=auto, n_estimators=350; total time=   1.2s\n",
      "[CV 6/6] END max_depth=3, max_features=auto, n_estimators=350; total time=   1.2s\n",
      "[CV 1/6] END max_depth=3, max_features=sqrt, n_estimators=100; total time=   0.3s\n",
      "[CV 2/6] END max_depth=3, max_features=sqrt, n_estimators=100; total time=   0.3s\n",
      "[CV 3/6] END max_depth=3, max_features=sqrt, n_estimators=100; total time=   0.3s\n",
      "[CV 4/6] END max_depth=3, max_features=sqrt, n_estimators=100; total time=   0.3s\n",
      "[CV 5/6] END max_depth=3, max_features=sqrt, n_estimators=100; total time=   0.3s\n",
      "[CV 6/6] END max_depth=3, max_features=sqrt, n_estimators=100; total time=   0.3s\n",
      "[CV 1/6] END max_depth=3, max_features=sqrt, n_estimators=150; total time=   0.5s\n",
      "[CV 2/6] END max_depth=3, max_features=sqrt, n_estimators=150; total time=   0.5s\n",
      "[CV 3/6] END max_depth=3, max_features=sqrt, n_estimators=150; total time=   0.5s\n",
      "[CV 4/6] END max_depth=3, max_features=sqrt, n_estimators=150; total time=   0.5s\n",
      "[CV 5/6] END max_depth=3, max_features=sqrt, n_estimators=150; total time=   0.5s\n",
      "[CV 6/6] END max_depth=3, max_features=sqrt, n_estimators=150; total time=   0.5s\n",
      "[CV 1/6] END max_depth=3, max_features=sqrt, n_estimators=200; total time=   0.7s\n",
      "[CV 2/6] END max_depth=3, max_features=sqrt, n_estimators=200; total time=   0.7s\n",
      "[CV 3/6] END max_depth=3, max_features=sqrt, n_estimators=200; total time=   0.7s\n",
      "[CV 4/6] END max_depth=3, max_features=sqrt, n_estimators=200; total time=   0.7s\n",
      "[CV 5/6] END max_depth=3, max_features=sqrt, n_estimators=200; total time=   0.7s\n",
      "[CV 6/6] END max_depth=3, max_features=sqrt, n_estimators=200; total time=   0.7s\n",
      "[CV 1/6] END max_depth=3, max_features=sqrt, n_estimators=250; total time=   0.8s\n",
      "[CV 2/6] END max_depth=3, max_features=sqrt, n_estimators=250; total time=   0.8s\n",
      "[CV 3/6] END max_depth=3, max_features=sqrt, n_estimators=250; total time=   0.8s\n",
      "[CV 4/6] END max_depth=3, max_features=sqrt, n_estimators=250; total time=   0.8s\n",
      "[CV 5/6] END max_depth=3, max_features=sqrt, n_estimators=250; total time=   0.8s\n",
      "[CV 6/6] END max_depth=3, max_features=sqrt, n_estimators=250; total time=   0.8s\n",
      "[CV 1/6] END max_depth=3, max_features=sqrt, n_estimators=300; total time=   1.0s\n",
      "[CV 2/6] END max_depth=3, max_features=sqrt, n_estimators=300; total time=   1.0s\n",
      "[CV 3/6] END max_depth=3, max_features=sqrt, n_estimators=300; total time=   1.0s\n",
      "[CV 4/6] END max_depth=3, max_features=sqrt, n_estimators=300; total time=   1.0s\n",
      "[CV 5/6] END max_depth=3, max_features=sqrt, n_estimators=300; total time=   1.1s\n",
      "[CV 6/6] END max_depth=3, max_features=sqrt, n_estimators=300; total time=   1.0s\n",
      "[CV 1/6] END max_depth=3, max_features=sqrt, n_estimators=350; total time=   1.2s\n",
      "[CV 2/6] END max_depth=3, max_features=sqrt, n_estimators=350; total time=   1.2s\n",
      "[CV 3/6] END max_depth=3, max_features=sqrt, n_estimators=350; total time=   1.2s\n",
      "[CV 4/6] END max_depth=3, max_features=sqrt, n_estimators=350; total time=   1.2s\n",
      "[CV 5/6] END max_depth=3, max_features=sqrt, n_estimators=350; total time=   1.2s\n",
      "[CV 6/6] END max_depth=3, max_features=sqrt, n_estimators=350; total time=   1.2s\n",
      "[CV 1/6] END max_depth=4, max_features=auto, n_estimators=100; total time=   0.4s\n",
      "[CV 2/6] END max_depth=4, max_features=auto, n_estimators=100; total time=   0.4s\n",
      "[CV 3/6] END max_depth=4, max_features=auto, n_estimators=100; total time=   0.4s\n",
      "[CV 4/6] END max_depth=4, max_features=auto, n_estimators=100; total time=   0.3s\n",
      "[CV 5/6] END max_depth=4, max_features=auto, n_estimators=100; total time=   0.4s\n",
      "[CV 6/6] END max_depth=4, max_features=auto, n_estimators=100; total time=   0.4s\n",
      "[CV 1/6] END max_depth=4, max_features=auto, n_estimators=150; total time=   0.6s\n",
      "[CV 2/6] END max_depth=4, max_features=auto, n_estimators=150; total time=   0.6s\n",
      "[CV 3/6] END max_depth=4, max_features=auto, n_estimators=150; total time=   0.6s\n",
      "[CV 4/6] END max_depth=4, max_features=auto, n_estimators=150; total time=   0.6s\n",
      "[CV 5/6] END max_depth=4, max_features=auto, n_estimators=150; total time=   0.6s\n",
      "[CV 6/6] END max_depth=4, max_features=auto, n_estimators=150; total time=   0.7s\n",
      "[CV 1/6] END max_depth=4, max_features=auto, n_estimators=200; total time=   0.8s\n",
      "[CV 2/6] END max_depth=4, max_features=auto, n_estimators=200; total time=   0.7s\n",
      "[CV 3/6] END max_depth=4, max_features=auto, n_estimators=200; total time=   0.8s\n",
      "[CV 4/6] END max_depth=4, max_features=auto, n_estimators=200; total time=   0.8s\n",
      "[CV 5/6] END max_depth=4, max_features=auto, n_estimators=200; total time=   0.8s\n",
      "[CV 6/6] END max_depth=4, max_features=auto, n_estimators=200; total time=   0.8s\n",
      "[CV 1/6] END max_depth=4, max_features=auto, n_estimators=250; total time=   1.0s\n",
      "[CV 2/6] END max_depth=4, max_features=auto, n_estimators=250; total time=   1.0s\n",
      "[CV 3/6] END max_depth=4, max_features=auto, n_estimators=250; total time=   1.0s\n",
      "[CV 4/6] END max_depth=4, max_features=auto, n_estimators=250; total time=   1.0s\n",
      "[CV 5/6] END max_depth=4, max_features=auto, n_estimators=250; total time=   1.0s\n",
      "[CV 6/6] END max_depth=4, max_features=auto, n_estimators=250; total time=   1.0s\n",
      "[CV 1/6] END max_depth=4, max_features=auto, n_estimators=300; total time=   1.2s\n",
      "[CV 2/6] END max_depth=4, max_features=auto, n_estimators=300; total time=   1.2s\n",
      "[CV 3/6] END max_depth=4, max_features=auto, n_estimators=300; total time=   1.2s\n",
      "[CV 4/6] END max_depth=4, max_features=auto, n_estimators=300; total time=   1.2s\n",
      "[CV 5/6] END max_depth=4, max_features=auto, n_estimators=300; total time=   1.2s\n",
      "[CV 6/6] END max_depth=4, max_features=auto, n_estimators=300; total time=   1.2s\n",
      "[CV 1/6] END max_depth=4, max_features=auto, n_estimators=350; total time=   1.4s\n",
      "[CV 2/6] END max_depth=4, max_features=auto, n_estimators=350; total time=   1.4s\n",
      "[CV 3/6] END max_depth=4, max_features=auto, n_estimators=350; total time=   1.4s\n",
      "[CV 4/6] END max_depth=4, max_features=auto, n_estimators=350; total time=   1.4s\n",
      "[CV 5/6] END max_depth=4, max_features=auto, n_estimators=350; total time=   1.4s\n",
      "[CV 6/6] END max_depth=4, max_features=auto, n_estimators=350; total time=   1.4s\n",
      "[CV 1/6] END max_depth=4, max_features=sqrt, n_estimators=100; total time=   0.4s\n",
      "[CV 2/6] END max_depth=4, max_features=sqrt, n_estimators=100; total time=   0.4s\n",
      "[CV 3/6] END max_depth=4, max_features=sqrt, n_estimators=100; total time=   0.4s\n",
      "[CV 4/6] END max_depth=4, max_features=sqrt, n_estimators=100; total time=   0.3s\n",
      "[CV 5/6] END max_depth=4, max_features=sqrt, n_estimators=100; total time=   0.3s\n",
      "[CV 6/6] END max_depth=4, max_features=sqrt, n_estimators=100; total time=   0.3s\n",
      "[CV 1/6] END max_depth=4, max_features=sqrt, n_estimators=150; total time=   0.6s\n",
      "[CV 2/6] END max_depth=4, max_features=sqrt, n_estimators=150; total time=   0.6s\n",
      "[CV 3/6] END max_depth=4, max_features=sqrt, n_estimators=150; total time=   0.6s\n",
      "[CV 4/6] END max_depth=4, max_features=sqrt, n_estimators=150; total time=   0.5s\n",
      "[CV 5/6] END max_depth=4, max_features=sqrt, n_estimators=150; total time=   0.5s\n",
      "[CV 6/6] END max_depth=4, max_features=sqrt, n_estimators=150; total time=   0.5s\n",
      "[CV 1/6] END max_depth=4, max_features=sqrt, n_estimators=200; total time=   0.7s\n",
      "[CV 2/6] END max_depth=4, max_features=sqrt, n_estimators=200; total time=   0.7s\n",
      "[CV 3/6] END max_depth=4, max_features=sqrt, n_estimators=200; total time=   0.7s\n",
      "[CV 4/6] END max_depth=4, max_features=sqrt, n_estimators=200; total time=   0.7s\n",
      "[CV 5/6] END max_depth=4, max_features=sqrt, n_estimators=200; total time=   0.7s\n",
      "[CV 6/6] END max_depth=4, max_features=sqrt, n_estimators=200; total time=   0.7s\n",
      "[CV 1/6] END max_depth=4, max_features=sqrt, n_estimators=250; total time=   0.9s\n",
      "[CV 2/6] END max_depth=4, max_features=sqrt, n_estimators=250; total time=   0.9s\n"
     ]
    },
    {
     "name": "stdout",
     "output_type": "stream",
     "text": [
      "[CV 3/6] END max_depth=4, max_features=sqrt, n_estimators=250; total time=   0.9s\n",
      "[CV 4/6] END max_depth=4, max_features=sqrt, n_estimators=250; total time=   0.9s\n",
      "[CV 5/6] END max_depth=4, max_features=sqrt, n_estimators=250; total time=   0.9s\n",
      "[CV 6/6] END max_depth=4, max_features=sqrt, n_estimators=250; total time=   0.9s\n",
      "[CV 1/6] END max_depth=4, max_features=sqrt, n_estimators=300; total time=   1.1s\n",
      "[CV 2/6] END max_depth=4, max_features=sqrt, n_estimators=300; total time=   1.2s\n",
      "[CV 3/6] END max_depth=4, max_features=sqrt, n_estimators=300; total time=   1.1s\n",
      "[CV 4/6] END max_depth=4, max_features=sqrt, n_estimators=300; total time=   1.1s\n",
      "[CV 5/6] END max_depth=4, max_features=sqrt, n_estimators=300; total time=   1.1s\n",
      "[CV 6/6] END max_depth=4, max_features=sqrt, n_estimators=300; total time=   1.1s\n",
      "[CV 1/6] END max_depth=4, max_features=sqrt, n_estimators=350; total time=   1.3s\n",
      "[CV 2/6] END max_depth=4, max_features=sqrt, n_estimators=350; total time=   1.3s\n",
      "[CV 3/6] END max_depth=4, max_features=sqrt, n_estimators=350; total time=   1.3s\n",
      "[CV 4/6] END max_depth=4, max_features=sqrt, n_estimators=350; total time=   1.3s\n",
      "[CV 5/6] END max_depth=4, max_features=sqrt, n_estimators=350; total time=   1.3s\n",
      "[CV 6/6] END max_depth=4, max_features=sqrt, n_estimators=350; total time=   1.3s\n"
     ]
    },
    {
     "data": {
      "text/plain": [
       "GridSearchCV(cv=6, estimator=RandomForestClassifier(random_state=0),\n",
       "             param_grid={'max_depth': [2, 3, 4],\n",
       "                         'max_features': ['auto', 'sqrt'],\n",
       "                         'n_estimators': [100, 150, 200, 250, 300, 350]},\n",
       "             scoring='accuracy', verbose=5)"
      ]
     },
     "execution_count": 95,
     "metadata": {},
     "output_type": "execute_result"
    }
   ],
   "source": [
    "grid2.fit(X_train,y_train)"
   ]
  },
  {
   "cell_type": "code",
   "execution_count": 96,
   "metadata": {},
   "outputs": [
    {
     "data": {
      "text/plain": [
       "{'max_depth': 4, 'max_features': 'auto', 'n_estimators': 100}"
      ]
     },
     "metadata": {},
     "output_type": "display_data"
    },
    {
     "data": {
      "text/plain": [
       "0.7568259385665529"
      ]
     },
     "metadata": {},
     "output_type": "display_data"
    }
   ],
   "source": [
    "display(grid2.best_params_,grid2.best_score_ )"
   ]
  },
  {
   "cell_type": "code",
   "execution_count": 97,
   "metadata": {},
   "outputs": [
    {
     "data": {
      "image/png": "[encoded data removed]",
      "text/plain": [
       "<Figure size 432x288 with 2 Axes>"
      ]
     },
     "metadata": {
      "needs_background": "light"
     },
     "output_type": "display_data"
    }
   ],
   "source": [
    "from sklearn.metrics import plot_confusion_matrix\n",
    "plot_confusion_matrix(grid2, X_test, y_test);"
   ]
  },
  {
   "cell_type": "code",
   "execution_count": 98,
   "metadata": {},
   "outputs": [
    {
     "name": "stdout",
     "output_type": "stream",
     "text": [
      "              precision    recall  f1-score   support\n",
      "\n",
      "           0       0.87      1.00      0.93      1902\n",
      "           1       1.00      0.76      0.86      1113\n",
      "\n",
      "    accuracy                           0.91      3015\n",
      "   macro avg       0.94      0.88      0.90      3015\n",
      "weighted avg       0.92      0.91      0.91      3015\n",
      "\n"
     ]
    }
   ],
   "source": [
    "Rf_prediction = grid2.predict(X_test)\n",
    "print(classification_report(y_test,Rf_prediction))"
   ]
  },
  {
   "cell_type": "code",
   "execution_count": 99,
   "metadata": {},
   "outputs": [
    {
     "name": "stdout",
     "output_type": "stream",
     "text": [
      "              precision    recall  f1-score   support\n",
      "\n",
      "           0       0.88      1.00      0.94      4390\n",
      "           1       1.00      0.77      0.87      2642\n",
      "\n",
      "    accuracy                           0.92      7032\n",
      "   macro avg       0.94      0.89      0.90      7032\n",
      "weighted avg       0.93      0.92      0.91      7032\n",
      "\n"
     ]
    }
   ],
   "source": [
    "x=grid2.predict(X_train)\n",
    "print(classification_report(y_train,x))"
   ]
  },
  {
   "cell_type": "code",
   "execution_count": 100,
   "metadata": {},
   "outputs": [],
   "source": [
    "#### auc  in roc "
   ]
  },
  {
   "cell_type": "code",
   "execution_count": 101,
   "metadata": {},
   "outputs": [
    {
     "data": {
      "image/png": "[encoded data removed]",
      "text/plain": [
       "<Figure size 480x320 with 1 Axes>"
      ]
     },
     "metadata": {
      "needs_background": "light"
     },
     "output_type": "display_data"
    }
   ],
   "source": [
    "figure(figsize=(6,4), dpi=80)\n",
    "false_positive_rate, true_positive_rate, thresholds = roc_curve(y_test, grid2.predict_proba(X_test)[:,1])\n",
    "prob1=grid2.predict_proba(X_train)[:,1]\n",
    "fpr, tpr, threshold=metrics.roc_curve (y_train, prob1 ) \n",
    "plt.plot([0,1],[0,1], 'k--') \n",
    "plt.plot(fpr, tpr, label='Rf') \n",
    "plt.xlabel('False_Positive') \n",
    "plt.ylabel(\"True_Positive\") \n",
    "plt.show()"
   ]
  },
  {
   "cell_type": "code",
   "execution_count": null,
   "metadata": {},
   "outputs": [],
   "source": [
    "## shows high accuracy and perfect graph"
   ]
  },
  {
   "cell_type": "code",
   "execution_count": 599,
   "metadata": {},
   "outputs": [],
   "source": [
    "###KNN"
   ]
  },
  {
   "cell_type": "code",
   "execution_count": 84,
   "metadata": {},
   "outputs": [],
   "source": [
    "from sklearn.neighbors import KNeighborsClassifier,KNeighborsRegressor\n",
    "clf=KNeighborsClassifier()\n",
    "param_grid = {'n_neighbors': [8,9,11,13,15],\n",
    "             'algorithm':['auto','ball_tree', 'kd_tree']}\n",
    "grid1 = GridSearchCV(clf,\n",
    "                    param_grid,\n",
    "                    verbose=5,\n",
    "                    cv = 6,scoring='accuracy')"
   ]
  },
  {
   "cell_type": "code",
   "execution_count": 85,
   "metadata": {},
   "outputs": [
    {
     "name": "stdout",
     "output_type": "stream",
     "text": [
      "Fitting 6 folds for each of 15 candidates, totalling 90 fits\n",
      "[CV 1/6] END ..................algorithm=auto, n_neighbors=8; total time=   0.3s\n",
      "[CV 2/6] END ..................algorithm=auto, n_neighbors=8; total time=   0.3s\n",
      "[CV 3/6] END ..................algorithm=auto, n_neighbors=8; total time=   0.3s\n",
      "[CV 4/6] END ..................algorithm=auto, n_neighbors=8; total time=   0.3s\n",
      "[CV 5/6] END ..................algorithm=auto, n_neighbors=8; total time=   0.3s\n",
      "[CV 6/6] END ..................algorithm=auto, n_neighbors=8; total time=   0.3s\n",
      "[CV 1/6] END ..................algorithm=auto, n_neighbors=9; total time=   0.3s\n",
      "[CV 2/6] END ..................algorithm=auto, n_neighbors=9; total time=   0.3s\n",
      "[CV 3/6] END ..................algorithm=auto, n_neighbors=9; total time=   0.4s\n",
      "[CV 4/6] END ..................algorithm=auto, n_neighbors=9; total time=   0.3s\n",
      "[CV 5/6] END ..................algorithm=auto, n_neighbors=9; total time=   0.3s\n",
      "[CV 6/6] END ..................algorithm=auto, n_neighbors=9; total time=   0.3s\n",
      "[CV 1/6] END .................algorithm=auto, n_neighbors=11; total time=   0.3s\n",
      "[CV 2/6] END .................algorithm=auto, n_neighbors=11; total time=   0.3s\n",
      "[CV 3/6] END .................algorithm=auto, n_neighbors=11; total time=   0.3s\n",
      "[CV 4/6] END .................algorithm=auto, n_neighbors=11; total time=   0.3s\n",
      "[CV 5/6] END .................algorithm=auto, n_neighbors=11; total time=   0.4s\n",
      "[CV 6/6] END .................algorithm=auto, n_neighbors=11; total time=   0.3s\n",
      "[CV 1/6] END .................algorithm=auto, n_neighbors=13; total time=   0.3s\n",
      "[CV 2/6] END .................algorithm=auto, n_neighbors=13; total time=   0.3s\n",
      "[CV 3/6] END .................algorithm=auto, n_neighbors=13; total time=   0.3s\n",
      "[CV 4/6] END .................algorithm=auto, n_neighbors=13; total time=   0.3s\n",
      "[CV 5/6] END .................algorithm=auto, n_neighbors=13; total time=   0.3s\n",
      "[CV 6/6] END .................algorithm=auto, n_neighbors=13; total time=   0.3s\n",
      "[CV 1/6] END .................algorithm=auto, n_neighbors=15; total time=   0.3s\n",
      "[CV 2/6] END .................algorithm=auto, n_neighbors=15; total time=   0.3s\n",
      "[CV 3/6] END .................algorithm=auto, n_neighbors=15; total time=   0.3s\n",
      "[CV 4/6] END .................algorithm=auto, n_neighbors=15; total time=   0.3s\n",
      "[CV 5/6] END .................algorithm=auto, n_neighbors=15; total time=   0.4s\n",
      "[CV 6/6] END .................algorithm=auto, n_neighbors=15; total time=   0.4s\n",
      "[CV 1/6] END .............algorithm=ball_tree, n_neighbors=8; total time=   0.6s\n",
      "[CV 2/6] END .............algorithm=ball_tree, n_neighbors=8; total time=   0.6s\n",
      "[CV 3/6] END .............algorithm=ball_tree, n_neighbors=8; total time=   0.6s\n",
      "[CV 4/6] END .............algorithm=ball_tree, n_neighbors=8; total time=   0.6s\n",
      "[CV 5/6] END .............algorithm=ball_tree, n_neighbors=8; total time=   0.6s\n",
      "[CV 6/6] END .............algorithm=ball_tree, n_neighbors=8; total time=   0.6s\n",
      "[CV 1/6] END .............algorithm=ball_tree, n_neighbors=9; total time=   0.6s\n",
      "[CV 2/6] END .............algorithm=ball_tree, n_neighbors=9; total time=   0.6s\n",
      "[CV 3/6] END .............algorithm=ball_tree, n_neighbors=9; total time=   0.6s\n",
      "[CV 4/6] END .............algorithm=ball_tree, n_neighbors=9; total time=   0.6s\n",
      "[CV 5/6] END .............algorithm=ball_tree, n_neighbors=9; total time=   0.6s\n",
      "[CV 6/6] END .............algorithm=ball_tree, n_neighbors=9; total time=   0.6s\n",
      "[CV 1/6] END ............algorithm=ball_tree, n_neighbors=11; total time=   0.6s\n",
      "[CV 2/6] END ............algorithm=ball_tree, n_neighbors=11; total time=   0.6s\n",
      "[CV 3/6] END ............algorithm=ball_tree, n_neighbors=11; total time=   0.6s\n",
      "[CV 4/6] END ............algorithm=ball_tree, n_neighbors=11; total time=   0.6s\n",
      "[CV 5/6] END ............algorithm=ball_tree, n_neighbors=11; total time=   0.6s\n",
      "[CV 6/6] END ............algorithm=ball_tree, n_neighbors=11; total time=   0.6s\n",
      "[CV 1/6] END ............algorithm=ball_tree, n_neighbors=13; total time=   0.6s\n",
      "[CV 2/6] END ............algorithm=ball_tree, n_neighbors=13; total time=   0.6s\n",
      "[CV 3/6] END ............algorithm=ball_tree, n_neighbors=13; total time=   0.6s\n",
      "[CV 4/6] END ............algorithm=ball_tree, n_neighbors=13; total time=   0.7s\n",
      "[CV 5/6] END ............algorithm=ball_tree, n_neighbors=13; total time=   0.6s\n",
      "[CV 6/6] END ............algorithm=ball_tree, n_neighbors=13; total time=   0.6s\n",
      "[CV 1/6] END ............algorithm=ball_tree, n_neighbors=15; total time=   0.6s\n",
      "[CV 2/6] END ............algorithm=ball_tree, n_neighbors=15; total time=   0.6s\n",
      "[CV 3/6] END ............algorithm=ball_tree, n_neighbors=15; total time=   0.6s\n",
      "[CV 4/6] END ............algorithm=ball_tree, n_neighbors=15; total time=   0.6s\n",
      "[CV 5/6] END ............algorithm=ball_tree, n_neighbors=15; total time=   0.6s\n",
      "[CV 6/6] END ............algorithm=ball_tree, n_neighbors=15; total time=   0.6s\n",
      "[CV 1/6] END ...............algorithm=kd_tree, n_neighbors=8; total time=   1.1s\n",
      "[CV 2/6] END ...............algorithm=kd_tree, n_neighbors=8; total time=   1.1s\n",
      "[CV 3/6] END ...............algorithm=kd_tree, n_neighbors=8; total time=   1.1s\n",
      "[CV 4/6] END ...............algorithm=kd_tree, n_neighbors=8; total time=   1.1s\n",
      "[CV 5/6] END ...............algorithm=kd_tree, n_neighbors=8; total time=   1.1s\n",
      "[CV 6/6] END ...............algorithm=kd_tree, n_neighbors=8; total time=   1.1s\n",
      "[CV 1/6] END ...............algorithm=kd_tree, n_neighbors=9; total time=   1.1s\n",
      "[CV 2/6] END ...............algorithm=kd_tree, n_neighbors=9; total time=   1.1s\n",
      "[CV 3/6] END ...............algorithm=kd_tree, n_neighbors=9; total time=   1.2s\n",
      "[CV 4/6] END ...............algorithm=kd_tree, n_neighbors=9; total time=   1.1s\n",
      "[CV 5/6] END ...............algorithm=kd_tree, n_neighbors=9; total time=   1.1s\n",
      "[CV 6/6] END ...............algorithm=kd_tree, n_neighbors=9; total time=   1.1s\n",
      "[CV 1/6] END ..............algorithm=kd_tree, n_neighbors=11; total time=   1.1s\n",
      "[CV 2/6] END ..............algorithm=kd_tree, n_neighbors=11; total time=   1.1s\n",
      "[CV 3/6] END ..............algorithm=kd_tree, n_neighbors=11; total time=   1.1s\n",
      "[CV 4/6] END ..............algorithm=kd_tree, n_neighbors=11; total time=   1.1s\n",
      "[CV 5/6] END ..............algorithm=kd_tree, n_neighbors=11; total time=   1.1s\n",
      "[CV 6/6] END ..............algorithm=kd_tree, n_neighbors=11; total time=   1.1s\n",
      "[CV 1/6] END ..............algorithm=kd_tree, n_neighbors=13; total time=   1.1s\n",
      "[CV 2/6] END ..............algorithm=kd_tree, n_neighbors=13; total time=   1.1s\n",
      "[CV 3/6] END ..............algorithm=kd_tree, n_neighbors=13; total time=   1.1s\n",
      "[CV 4/6] END ..............algorithm=kd_tree, n_neighbors=13; total time=   1.2s\n",
      "[CV 5/6] END ..............algorithm=kd_tree, n_neighbors=13; total time=   1.1s\n",
      "[CV 6/6] END ..............algorithm=kd_tree, n_neighbors=13; total time=   1.1s\n",
      "[CV 1/6] END ..............algorithm=kd_tree, n_neighbors=15; total time=   1.1s\n",
      "[CV 2/6] END ..............algorithm=kd_tree, n_neighbors=15; total time=   1.1s\n",
      "[CV 3/6] END ..............algorithm=kd_tree, n_neighbors=15; total time=   1.1s\n",
      "[CV 4/6] END ..............algorithm=kd_tree, n_neighbors=15; total time=   1.1s\n",
      "[CV 5/6] END ..............algorithm=kd_tree, n_neighbors=15; total time=   1.1s\n",
      "[CV 6/6] END ..............algorithm=kd_tree, n_neighbors=15; total time=   1.1s\n"
     ]
    },
    {
     "data": {
      "text/plain": [
       "GridSearchCV(cv=6, estimator=KNeighborsClassifier(),\n",
       "             param_grid={'algorithm': ['auto', 'ball_tree', 'kd_tree'],\n",
       "                         'n_neighbors': [8, 9, 11, 13, 15]},\n",
       "             scoring='accuracy', verbose=5)"
      ]
     },
     "execution_count": 85,
     "metadata": {},
     "output_type": "execute_result"
    }
   ],
   "source": [
    "grid1.fit(X_train,y_train)"
   ]
  },
  {
   "cell_type": "code",
   "execution_count": 86,
   "metadata": {},
   "outputs": [
    {
     "data": {
      "text/plain": [
       "{'algorithm': 'ball_tree', 'n_neighbors': 9}"
      ]
     },
     "metadata": {},
     "output_type": "display_data"
    },
    {
     "data": {
      "text/plain": [
       "0.7120307167235493"
      ]
     },
     "metadata": {},
     "output_type": "display_data"
    }
   ],
   "source": [
    "display(grid1.best_params_,grid1.best_score_ )"
   ]
  },
  {
   "cell_type": "code",
   "execution_count": 87,
   "metadata": {},
   "outputs": [
    {
     "data": {
      "image/png": "[encoded data removed]",
      "text/plain": [
       "<Figure size 432x288 with 2 Axes>"
      ]
     },
     "metadata": {
      "needs_background": "light"
     },
     "output_type": "display_data"
    }
   ],
   "source": [
    "knn_prediction = grid1.predict(X_test)\n",
    "from sklearn.metrics import plot_confusion_matrix\n",
    "plot_confusion_matrix(grid1, X_test, y_test);"
   ]
  },
  {
   "cell_type": "code",
   "execution_count": 88,
   "metadata": {},
   "outputs": [
    {
     "name": "stdout",
     "output_type": "stream",
     "text": [
      "              precision    recall  f1-score   support\n",
      "\n",
      "           0       0.74      0.85      0.79      1902\n",
      "           1       0.65      0.48      0.55      1113\n",
      "\n",
      "    accuracy                           0.71      3015\n",
      "   macro avg       0.69      0.66      0.67      3015\n",
      "weighted avg       0.70      0.71      0.70      3015\n",
      "\n"
     ]
    }
   ],
   "source": [
    "print(classification_report(y_test,knn_prediction))"
   ]
  },
  {
   "cell_type": "code",
   "execution_count": 89,
   "metadata": {},
   "outputs": [
    {
     "name": "stdout",
     "output_type": "stream",
     "text": [
      "              precision    recall  f1-score   support\n",
      "\n",
      "           0       0.79      0.89      0.84      4390\n",
      "           1       0.76      0.61      0.68      2642\n",
      "\n",
      "    accuracy                           0.78      7032\n",
      "   macro avg       0.78      0.75      0.76      7032\n",
      "weighted avg       0.78      0.78      0.78      7032\n",
      "\n"
     ]
    }
   ],
   "source": [
    "x1=grid1.predict(X_train)\n",
    "print(classification_report(y_train,x1))"
   ]
  },
  {
   "cell_type": "code",
   "execution_count": 90,
   "metadata": {},
   "outputs": [],
   "source": [
    "## over fitted"
   ]
  },
  {
   "cell_type": "code",
   "execution_count": 91,
   "metadata": {},
   "outputs": [],
   "source": [
    "## auc in roc curve"
   ]
  },
  {
   "cell_type": "code",
   "execution_count": 92,
   "metadata": {},
   "outputs": [
    {
     "data": {
      "image/png": "[encoded data removed]",
      "text/plain": [
       "<Figure size 480x320 with 1 Axes>"
      ]
     },
     "metadata": {
      "needs_background": "light"
     },
     "output_type": "display_data"
    }
   ],
   "source": [
    "figure(figsize=(6, 4), dpi=80)\n",
    "false_positive_rate, true_positive_rate, thresholds = roc_curve(y_test, grid1.predict_proba(X_test)[:,1])\n",
    "prob2=grid1.predict_proba(X_train)[:,1]\n",
    "fpr, tpr, threshold=metrics.roc_curve (y_train, prob2 ) \n",
    "plt.plot([0,1],[0,1], 'k--') \n",
    "plt.plot(fpr, tpr, label='KNN') \n",
    "plt.xlabel('False_Positive') \n",
    "plt.ylabel(\"True_Positive\") \n",
    "plt.show()"
   ]
  },
  {
   "cell_type": "code",
   "execution_count": null,
   "metadata": {},
   "outputs": [],
   "source": []
  }
 ],
 "metadata": {
  "kernelspec": {
   "display_name": "Python 3",
   "language": "python",
   "name": "python3"
  },
  "language_info": {
   "codemirror_mode": {
    "name": "ipython",
    "version": 3
   },
   "file_extension": ".py",
   "mimetype": "text/x-python",
   "name": "python",
   "nbconvert_exporter": "python",
   "pygments_lexer": "ipython3",
   "version": "3.8.8"
  }
 },
 "nbformat": 4,
 "nbformat_minor": 4
}
